{
 "cells": [
  {
   "cell_type": "code",
   "execution_count": 1,
   "metadata": {},
   "outputs": [],
   "source": [
    "import os\n",
    "import json\n",
    "import sys\n",
    "\n",
    "import pandas as pd\n",
    "import numpy as np\n",
    "\n",
    "from evaluate import *\n",
    "\n",
    "\n",
    "from tqdm import tqdm\n",
    "from arena_util import write_json\n",
    "from arena_util import load_json\n",
    "from arena_util import remove_seen\n",
    "\n",
    "from gensim.models import Word2Vec\n",
    "from gensim.models.keyedvectors import WordEmbeddingsKeyedVectors\n",
    "from konlpy.tag import Kkma, Twitter\n",
    "\n"
   ]
  },
  {
   "cell_type": "code",
   "execution_count": 2,
   "metadata": {},
   "outputs": [],
   "source": [
    "class PlaylistEmbedding:\n",
    "    def __init__(self, FILE_PATH):\n",
    "        self.FILE_PATH = FILE_PATH\n",
    "        self.min_count = 3\n",
    "        self.size = 100\n",
    "        self.window = 310\n",
    "        self.sg = 1\n",
    "        self.p2v_model = WordEmbeddingsKeyedVectors(self.size)\n",
    "        with open(os.path.join(FILE_PATH, 'train.json'), encoding=\"utf-8\") as f:\n",
    "            self.train = json.load(f)\n",
    "        with open(os.path.join(FILE_PATH, 'test.json'), encoding=\"utf-8\") as f:\n",
    "            self.test = json.load(f)\n",
    "        with open(os.path.join(FILE_PATH, 'val.json'), encoding=\"utf-8\") as f:\n",
    "            self.val = json.load(f)\n",
    "        with open(os.path.join(FILE_PATH, 'most_results.json'), encoding=\"utf-8\") as f:\n",
    "            self.most_results = json.load(f)\n",
    "        with open(os.path.join(FILE_PATH, 'song_meta.json'), encoding=\"utf-8\") as f:\n",
    "            self.song_meta = json.load(f)\n",
    "        \n",
    "        #self.song_meta = meta = pd.read_json('song_meta.json', typ = 'frame')\n",
    "\n",
    "\n",
    "\n",
    "            \n",
    "    "
   ]
  },
  {
   "cell_type": "code",
   "execution_count": 3,
   "metadata": {},
   "outputs": [],
   "source": [
    "def get_dic(self, train, val, test, song_meta):\n",
    "    song_dic = {}\n",
    "    tag_dic = {}\n",
    "    title_dic = {}\n",
    "    data = train + val + test\n",
    "    tagger = Twitter()\n",
    "    #data = train\n",
    "    for q in tqdm(data):\n",
    "        song_dic[str(q['id'])] = q['songs']\n",
    "        tag_dic[str(q['id'])] = q['tags']\n",
    "        \n",
    "        \n",
    "    self.song_dic = song_dic\n",
    "    self.tag_dic = tag_dic\n",
    "    total = list(map(lambda x: list(map(str, x['songs'])) + list(x['tags']) + list(tagger.morphs(x['plylst_title'])), data))\n",
    "    total = [x for x in total if len(x)>1]\n",
    "    self.total = total\n",
    "    \n"
   ]
  },
  {
   "cell_type": "code",
   "execution_count": 4,
   "metadata": {},
   "outputs": [],
   "source": [
    "def get_dic2(self, train, val, test, song_meta):\n",
    "\n",
    "    album_songs_dic = {}\n",
    "    song_album_dic = {}\n",
    "    for q in tqdm(song_meta):\n",
    "        song_album_dic[q['id']] = q['album_id']\n",
    "        if q['album_id'] not in album_songs_dic:\n",
    "            album_songs_dic[q['album_id']] = []\n",
    "        album_songs_dic[q['album_id']].append(q['id'])\n",
    "    \n",
    "    self.album_songs_dic = album_songs_dic\n",
    "    self.song_album_dic = song_album_dic"
   ]
  },
  {
   "cell_type": "code",
   "execution_count": 5,
   "metadata": {},
   "outputs": [],
   "source": [
    "def get_w2v(self, total, min_count, size, window, sg):\n",
    "    w2v_model = Word2Vec(total, min_count = min_count, size = size, window = window, sg = sg, workers=8)\n",
    "    self.w2v_model = w2v_model\n",
    "            \n",
    "    "
   ]
  },
  {
   "cell_type": "code",
   "execution_count": 7,
   "metadata": {},
   "outputs": [],
   "source": [
    "def update_p2v(self, train, val, test, w2v_model):\n",
    "    ID = []   \n",
    "    vec = []\n",
    "    tagger = Twitter()\n",
    "    for q in tqdm(train + val + test):\n",
    "        tmp_vec = 0\n",
    "        if len(q['songs']) + len(q['tags'])>=1:\n",
    "            for song in q['songs'] + q['tags'] + tagger.morphs(q['plylst_title']):\n",
    "                try: \n",
    "                    tmp_vec += w2v_model.wv.get_vector(str(song))\n",
    "                except KeyError:\n",
    "                    #print(q)\n",
    "                    pass\n",
    "        if type(tmp_vec)!=int:\n",
    "            ID.append(str(q['id']))    \n",
    "            vec.append(tmp_vec)\n",
    "    self.p2v_model.add(ID, vec)\n",
    "    \n",
    "   "
   ]
  },
  {
   "cell_type": "code",
   "execution_count": 19,
   "metadata": {},
   "outputs": [],
   "source": [
    " def get_result(self, w2v_model, p2v_model, song_dic, tag_dic, most_results, val, song_album_dic, album_song_dic):\n",
    "    answers = []\n",
    "    most_use_count=0\n",
    "    wv_use_count=0\n",
    "    lack_count_songs=0\n",
    "    lack_count_tags=0\n",
    "    zero_songs_cnt=0\n",
    "    tagger = Twitter()\n",
    "    vocb_set = set(w2v_model.wv.vocab.keys())\n",
    "    for n, q in tqdm(enumerate(val), total = len(val)):\n",
    "        try:\n",
    "            #비슷한 플레이 리스트를 넣기\n",
    "            most_id = [x[0] for x in p2v_model.most_similar(str(q['id']), topn=200)]\n",
    "            wv_use_count +=1;\n",
    "            get_song = []\n",
    "            get_tag = []\n",
    "            for ID in most_id:\n",
    "                get_song += song_dic[ID]\n",
    "                get_tag += tag_dic[ID]\n",
    "                \n",
    "            \n",
    "            print('songs : ' + q[\"songs\"])\n",
    "            #print('org : ' + str(list(pd.value_counts(get_song)[:200].index)))\n",
    "            \n",
    "            break\n",
    "            #Song의 경우 앨범의 곡을 넣기\n",
    "            if len(q[\"songs\"]) > 0:\n",
    "                for song in q[\"songs\"]:\n",
    "                    get_song += album_song_dic[song_album_dic[ID]]\n",
    "                    \n",
    "            print('new : ' + str(list(pd.value_counts(get_song)[:200].index)))\n",
    "            \n",
    "            \n",
    "                    \n",
    "            get_song = list(pd.value_counts(get_song)[:200].index)\n",
    "            get_tag = list(pd.value_counts(get_tag)[:20].index)\n",
    "            answers.append({\n",
    "                \"id\": q[\"id\"],\n",
    "                \"songs\": remove_seen(q[\"songs\"], get_song)[:100],\n",
    "                \"tags\": remove_seen(q[\"tags\"], get_tag)[:10],\n",
    "            })\n",
    "        except:\n",
    "            #print(\"Unexpected error:\", sys.exc_info()[0])\n",
    "            try:\n",
    "                if len(q['songs']) + len(q['tags']) + len(q['plylst_title']) > 0:\n",
    "                    get_song = []\n",
    "                    get_tag = []\n",
    "                    str_songs = np.array([str(x) for x in q['songs'] + q['tags'] + tagger.morphs(q['plylst_title'])])\n",
    "                    str_songs = vocb_set.intersection(str_songs)\n",
    "                    for id, value in w2v_model.wv.most_similar(list(str_songs), topn=500):\n",
    "                        if id.isdigit() and len(id) > 3:\n",
    "                            get_song.append(id)\n",
    "\n",
    "                    answers.append({\n",
    "                        \"id\": q[\"id\"],\n",
    "                        \"songs\": remove_seen(q[\"songs\"], get_song)[:100],\n",
    "                        \"tags\": remove_seen(q[\"tags\"], get_tag)[:10],\n",
    "                    })\n",
    "                else:\n",
    "                    answers.append({\n",
    "                      \"id\": most_results[n][\"id\"],\n",
    "                      \"songs\": most_results[n]['songs'],\n",
    "                      \"tags\": most_results[n][\"tags\"],\n",
    "                    }) \n",
    "            except:\n",
    "                print(\"Unexpected error:\", sys.exc_info()[0])\n",
    "                print(q)\n",
    "                answers.append({\n",
    "                  \"id\": most_results[n][\"id\"],\n",
    "                  \"songs\": most_results[n]['songs'],\n",
    "                  \"tags\": most_results[n][\"tags\"],\n",
    "                }) \n",
    "            zero_songs_cnt+=1\n",
    "            #print(tagger.morphs(q['plylst_title']))\n",
    "            #print(q)\n",
    "            \n",
    "            #answers.append({\n",
    "            #  \"id\": most_results[n][\"id\"],\n",
    "            #  \"songs\": most_results[n]['songs'],\n",
    "            #  \"tags\": most_results[n][\"tags\"],\n",
    "            #}) \n",
    "    # check and update answer\n",
    "    for n, q in enumerate(answers):\n",
    "        \n",
    "        if len(q['songs'])!=100:\n",
    "            lack_count_songs +=1\n",
    "            answers[n]['songs'] += remove_seen(q['songs'], self.most_results[n]['songs'])[:100-len(q['songs'])]\n",
    "        if len(q['tags'])!=10:\n",
    "            lack_count_tags +=1\n",
    "            answers[n]['tags'] += remove_seen(q['tags'], self.most_results[n]['tags'])[:10-len(q['tags'])]  \n",
    "    self.answers = answers\n",
    "    print(wv_use_count)\n",
    "    print(most_use_count)\n",
    "    print(lack_count_songs)\n",
    "    print(lack_count_tags)\n",
    "    print(zero_songs_cnt)\n",
    "   "
   ]
  },
  {
   "cell_type": "code",
   "execution_count": null,
   "metadata": {},
   "outputs": [],
   "source": [
    "#get_result2(self, self.w2v_model, self.p2v_model, self.song_dic, self.tag_dic, self.most_results, self.val)\n",
    "#self.p2v_model.most_similar('118598', topn=10)\n",
    "#print(self.p2v_model.vocab.keys())\n",
    "tagger = Twitter()\n",
    "vocb_set = set(self.w2v_model.wv.vocab.keys())\n",
    "\n",
    "str_songs = np.array([str(x) for x in tagger.morphs('앨리스테이블')])\n",
    "str_songs = vocb_set.intersection(str_songs)\n",
    "get_song = []\n",
    "get_tag = []\n",
    "for id, value in self.w2v_model.wv.most_similar(list(str_songs), topn=500):\n",
    "    if id.isdigit() and len(id) > 3:\n",
    "        get_song.append(id)\n",
    "    else:\n",
    "        get_tag.append(id)\n",
    "print(get_song)\n",
    "print(get_tag)\n",
    "\n"
   ]
  },
  {
   "cell_type": "code",
   "execution_count": null,
   "metadata": {},
   "outputs": [],
   "source": []
  },
  {
   "cell_type": "code",
   "execution_count": 9,
   "metadata": {},
   "outputs": [],
   "source": [
    "FILE_PATH = './'\n",
    "self = PlaylistEmbedding(FILE_PATH)\n",
    "#run(U_space)\n",
    "\n",
    "\n",
    "    "
   ]
  },
  {
   "cell_type": "code",
   "execution_count": 10,
   "metadata": {},
   "outputs": [
    {
     "name": "stderr",
     "output_type": "stream",
     "text": [
      "/usr/local/lib/python3.7/site-packages/konlpy/tag/_okt.py:16: UserWarning: \"Twitter\" has changed to \"Okt\" since KoNLPy v0.4.5.\n",
      "  warn('\"Twitter\" has changed to \"Okt\" since KoNLPy v0.4.5.')\n",
      "100%|██████████| 148826/148826 [00:00<00:00, 622789.07it/s]\n"
     ]
    }
   ],
   "source": [
    "get_dic(self, self.train, self.val, self.test, self.song_meta)"
   ]
  },
  {
   "cell_type": "code",
   "execution_count": 11,
   "metadata": {},
   "outputs": [
    {
     "name": "stderr",
     "output_type": "stream",
     "text": [
      "100%|██████████| 707989/707989 [00:01<00:00, 691049.95it/s]\n"
     ]
    }
   ],
   "source": [
    "get_dic2(self, self.train, self.val, self.test, self.song_meta)"
   ]
  },
  {
   "cell_type": "code",
   "execution_count": 12,
   "metadata": {},
   "outputs": [
    {
     "name": "stderr",
     "output_type": "stream",
     "text": [
      "100%|██████████| 148826/148826 [01:52<00:00, 1317.67it/s]\n"
     ]
    }
   ],
   "source": [
    "get_w2v(self, self.total, self.min_count, self.size, self.window, self.sg)\n",
    "update_p2v(self, self.train, self.val, self.test, self.w2v_model)\n"
   ]
  },
  {
   "cell_type": "code",
   "execution_count": 20,
   "metadata": {},
   "outputs": [
    {
     "name": "stderr",
     "output_type": "stream",
     "text": [
      "  0%|          | 67/23015 [00:00<05:20, 71.71it/s]"
     ]
    },
    {
     "name": "stdout",
     "output_type": "stream",
     "text": [
      "Unexpected error: <class 'ValueError'>\n",
      "{'tags': [], 'id': 47555, 'plylst_title': '', 'songs': [136761, 507344], 'like_cnt': 0, 'updt_date': '2015-11-18 14:12:07.000'}\n"
     ]
    },
    {
     "name": "stderr",
     "output_type": "stream",
     "text": [
      "  1%|          | 241/23015 [00:03<05:56, 63.96it/s]"
     ]
    },
    {
     "name": "stdout",
     "output_type": "stream",
     "text": [
      "Unexpected error: <class 'ValueError'>\n",
      "{'tags': [], 'id': 130185, 'plylst_title': '', 'songs': [537913, 577336, 10370, 299500, 619981, 671353, 111722], 'like_cnt': 1, 'updt_date': '2019-08-25 14:49:24.000'}\n"
     ]
    },
    {
     "name": "stderr",
     "output_type": "stream",
     "text": [
      "  1%|          | 263/23015 [00:04<06:11, 61.33it/s]"
     ]
    },
    {
     "name": "stdout",
     "output_type": "stream",
     "text": [
      "Unexpected error: <class 'ValueError'>\n",
      "{'tags': ['바흐파가니니기타음악', 'PepeRomero', '인기클래식기타음악'], 'id': 123715, 'plylst_title': '', 'songs': [208601, 641422, 503734, 132321, 433253, 334631, 403443, 357082, 215408, 227073], 'like_cnt': 43, 'updt_date': '2018-08-20 15:39:15.000'}\n"
     ]
    },
    {
     "name": "stderr",
     "output_type": "stream",
     "text": [
      "  2%|▏         | 388/23015 [00:06<05:29, 68.74it/s]"
     ]
    },
    {
     "name": "stdout",
     "output_type": "stream",
     "text": [
      "Unexpected error: <class 'ValueError'>\n",
      "{'tags': [], 'id': 70404, 'plylst_title': '', 'songs': [590709, 108366, 444983, 497920, 436455, 26863, 226329, 603758, 458923], 'like_cnt': 6, 'updt_date': '2018-10-15 09:29:10.000'}\n"
     ]
    },
    {
     "name": "stderr",
     "output_type": "stream",
     "text": [
      "  2%|▏         | 511/23015 [00:07<05:19, 70.50it/s]"
     ]
    },
    {
     "name": "stdout",
     "output_type": "stream",
     "text": [
      "Unexpected error: <class 'ValueError'>\n",
      "{'tags': [], 'id': 6804, 'plylst_title': 'IMJMWEDAPLUGG', 'songs': [], 'like_cnt': 82, 'updt_date': '2020-04-15 18:40:49.000'}\n",
      "Unexpected error: <class 'ValueError'>\n",
      "{'tags': [], 'id': 27908, 'plylst_title': '', 'songs': [474309, 136368, 123064, 321969, 450609, 617279, 460311, 173386, 440569, 267777, 409395, 651025, 585644], 'like_cnt': 7, 'updt_date': '2017-08-17 11:28:57.000'}\n"
     ]
    },
    {
     "name": "stderr",
     "output_type": "stream",
     "text": [
      "  4%|▎         | 809/23015 [00:12<05:19, 69.56it/s]"
     ]
    },
    {
     "name": "stdout",
     "output_type": "stream",
     "text": [
      "Unexpected error: <class 'ValueError'>\n",
      "{'tags': [], 'id': 114714, 'plylst_title': '', 'songs': [350110, 191714, 515717, 593742, 407145, 240276, 352209, 658714, 90614, 225937], 'like_cnt': 17, 'updt_date': '2019-12-19 14:47:44.000'}\n"
     ]
    },
    {
     "name": "stderr",
     "output_type": "stream",
     "text": [
      "  4%|▎         | 838/23015 [00:12<05:27, 67.74it/s]"
     ]
    },
    {
     "name": "stdout",
     "output_type": "stream",
     "text": [
      "Unexpected error: <class 'ValueError'>\n",
      "{'tags': [], 'id': 118562, 'plylst_title': '', 'songs': [707293], 'like_cnt': 13, 'updt_date': '2016-06-29 18:44:23.000'}\n"
     ]
    },
    {
     "name": "stderr",
     "output_type": "stream",
     "text": [
      "  5%|▍         | 1069/23015 [00:16<05:19, 68.59it/s]"
     ]
    },
    {
     "name": "stdout",
     "output_type": "stream",
     "text": [
      "Unexpected error: <class 'ValueError'>\n",
      "{'tags': [], 'id': 147307, 'plylst_title': '', 'songs': [583108, 225904, 210837, 68039, 286030, 494084], 'like_cnt': 17, 'updt_date': '2015-09-09 12:15:21.000'}\n"
     ]
    },
    {
     "name": "stderr",
     "output_type": "stream",
     "text": [
      "  7%|▋         | 1548/23015 [00:22<04:10, 85.60it/s]"
     ]
    },
    {
     "name": "stdout",
     "output_type": "stream",
     "text": [
      "Unexpected error: <class 'ValueError'>\n",
      "{'tags': [], 'id': 98726, 'plylst_title': '', 'songs': [317138, 230027, 439942, 551006, 536919, 221662, 516758, 277996, 360519, 148312, 275753, 534126, 466920, 367673, 347471], 'like_cnt': 3, 'updt_date': '2015-10-06 11:46:08.000'}\n"
     ]
    },
    {
     "name": "stderr",
     "output_type": "stream",
     "text": [
      "  7%|▋         | 1594/23015 [00:23<04:10, 85.63it/s]"
     ]
    },
    {
     "name": "stdout",
     "output_type": "stream",
     "text": [
      "Unexpected error: <class 'ValueError'>\n",
      "{'tags': [], 'id': 81377, 'plylst_title': '', 'songs': [99563, 610103, 632797, 19282, 609728], 'like_cnt': 4, 'updt_date': '2009-10-02 22:48:29.000'}\n"
     ]
    },
    {
     "name": "stderr",
     "output_type": "stream",
     "text": [
      "  8%|▊         | 1728/23015 [00:24<05:00, 70.73it/s]"
     ]
    },
    {
     "name": "stdout",
     "output_type": "stream",
     "text": [
      "Unexpected error: <class 'ValueError'>\n",
      "{'tags': [], 'id': 118731, 'plylst_title': '', 'songs': [634439, 368617, 354072, 526478, 509426, 136466, 88172], 'like_cnt': 23, 'updt_date': '2014-04-17 18:33:35.000'}\n"
     ]
    },
    {
     "name": "stderr",
     "output_type": "stream",
     "text": [
      "  8%|▊         | 1750/23015 [00:25<05:14, 67.69it/s]"
     ]
    },
    {
     "name": "stdout",
     "output_type": "stream",
     "text": [
      "Unexpected error: <class 'ValueError'>\n",
      "{'tags': [], 'id': 111765, 'plylst_title': '', 'songs': [264301, 411681, 653457, 695430, 650703, 133486, 297555, 148577], 'like_cnt': 0, 'updt_date': '2015-10-02 14:47:50.000'}\n"
     ]
    },
    {
     "name": "stderr",
     "output_type": "stream",
     "text": [
      "  8%|▊         | 1802/23015 [00:25<05:00, 70.62it/s]"
     ]
    },
    {
     "name": "stdout",
     "output_type": "stream",
     "text": [
      "Unexpected error: <class 'ValueError'>\n",
      "{'tags': [], 'id': 77264, 'plylst_title': '', 'songs': [226237, 479718, 170054, 106584, 144436, 255111, 244351, 143985, 442569, 527954, 191420, 401160, 423631, 686374, 161833, 131448, 282667, 59451, 670275, 335454, 390297, 514385], 'like_cnt': 0, 'updt_date': '2015-10-02 14:52:55.000'}\n"
     ]
    },
    {
     "name": "stderr",
     "output_type": "stream",
     "text": [
      " 10%|▉         | 2212/23015 [00:32<05:00, 69.27it/s]"
     ]
    },
    {
     "name": "stdout",
     "output_type": "stream",
     "text": [
      "Unexpected error: <class 'ValueError'>\n",
      "{'tags': [], 'id': 2833, 'plylst_title': 'hb industrial design', 'songs': [], 'like_cnt': 3, 'updt_date': '2019-03-18 11:09:38.000'}\n"
     ]
    },
    {
     "name": "stderr",
     "output_type": "stream",
     "text": [
      " 11%|█         | 2580/23015 [00:37<04:49, 70.61it/s]"
     ]
    },
    {
     "name": "stdout",
     "output_type": "stream",
     "text": [
      "Unexpected error: <class 'ValueError'>\n",
      "{'tags': [], 'id': 107307, 'plylst_title': '', 'songs': [475233, 198870, 409966, 56438, 205067, 344005, 215309, 420980], 'like_cnt': 0, 'updt_date': '2019-12-19 17:55:03.000'}\n"
     ]
    },
    {
     "name": "stderr",
     "output_type": "stream",
     "text": [
      " 12%|█▏        | 2719/23015 [00:40<05:49, 58.12it/s]"
     ]
    },
    {
     "name": "stdout",
     "output_type": "stream",
     "text": [
      "Unexpected error: <class 'ValueError'>\n",
      "{'tags': [], 'id': 68809, 'plylst_title': '', 'songs': [114106, 219476, 531650, 502733, 266189, 53842, 94373, 478359], 'like_cnt': 0, 'updt_date': '2015-10-02 14:47:44.000'}\n"
     ]
    },
    {
     "name": "stderr",
     "output_type": "stream",
     "text": [
      " 12%|█▏        | 2863/23015 [00:42<05:24, 62.08it/s]"
     ]
    },
    {
     "name": "stdout",
     "output_type": "stream",
     "text": [
      "Unexpected error: <class 'ValueError'>\n",
      "{'tags': [], 'id': 65571, 'plylst_title': '', 'songs': [637545, 262476, 41104, 110067, 444876, 195364, 36807, 675200, 155764, 397713, 615773, 153254, 107338, 452877, 35257, 320459, 3498, 433093, 683116, 547923, 639298, 297402, 35125, 119445, 68114, 372228, 285247, 261754, 577489, 66134, 107654, 406909, 695410, 698065, 276208, 445389, 190569, 175287, 615224, 75463, 559928, 552472, 612724, 192628, 154261, 473542, 376014, 189546, 504887, 672333, 196353, 444774, 15980, 483164, 252889, 445618, 670697, 496636, 694974, 132378, 147195, 392304, 160681, 108841, 208215, 432061, 670305, 97633, 316117, 449186, 621738, 6419, 262608, 532058, 311748, 356333, 101322, 385984, 544623, 496554, 323789, 431763, 30680, 497488, 321924, 55834, 573795, 16483, 594861, 294520, 211423, 237413, 278823, 393699, 276037, 235027, 632043, 3029, 38431, 284065], 'like_cnt': 36, 'updt_date': '2019-03-22 14:49:42.000'}\n"
     ]
    },
    {
     "name": "stderr",
     "output_type": "stream",
     "text": [
      " 13%|█▎        | 2898/23015 [00:43<05:15, 63.73it/s]"
     ]
    },
    {
     "name": "stdout",
     "output_type": "stream",
     "text": [
      "Unexpected error: <class 'ValueError'>\n",
      "{'tags': [], 'id': 151476, 'plylst_title': '', 'songs': [282553, 159240, 449757, 441006, 79646, 417842, 301629, 396700, 345178, 96055, 483635, 603155], 'like_cnt': 1, 'updt_date': '2015-04-08 23:26:43.000'}\n"
     ]
    },
    {
     "name": "stderr",
     "output_type": "stream",
     "text": [
      " 13%|█▎        | 2950/23015 [00:44<05:51, 57.01it/s]"
     ]
    },
    {
     "name": "stdout",
     "output_type": "stream",
     "text": [
      "Unexpected error: <class 'ValueError'>\n",
      "{'tags': [], 'id': 68400, 'plylst_title': '', 'songs': [548834, 27847, 308251, 624691, 128219, 390502, 86449], 'like_cnt': 1, 'updt_date': '2020-03-11 17:28:18.000'}\n"
     ]
    },
    {
     "name": "stderr",
     "output_type": "stream",
     "text": [
      " 13%|█▎        | 3074/23015 [00:46<05:30, 60.36it/s]"
     ]
    },
    {
     "name": "stdout",
     "output_type": "stream",
     "text": [
      "Unexpected error: <class 'ValueError'>\n",
      "{'tags': [], 'id': 124165, 'plylst_title': '', 'songs': [321923, 550781, 380824, 7176, 262556, 112049, 661743, 462144, 20375, 351049, 202428, 81878, 505758, 130729, 597959, 656473, 320634, 469994, 574229, 175408, 138426, 627304], 'like_cnt': 17, 'updt_date': '2018-07-12 17:03:55.000'}\n"
     ]
    },
    {
     "name": "stderr",
     "output_type": "stream",
     "text": [
      " 14%|█▍        | 3166/23015 [00:48<05:08, 64.37it/s]"
     ]
    },
    {
     "name": "stdout",
     "output_type": "stream",
     "text": [
      "Unexpected error: <class 'ValueError'>\n",
      "{'tags': [], 'id': 15339, 'plylst_title': 'testdj', 'songs': [], 'like_cnt': 0, 'updt_date': '2018-03-05 17:48:07.000'}\n"
     ]
    },
    {
     "name": "stderr",
     "output_type": "stream",
     "text": [
      " 15%|█▌        | 3502/23015 [00:54<06:45, 48.07it/s]"
     ]
    },
    {
     "name": "stdout",
     "output_type": "stream",
     "text": [
      "Unexpected error: <class 'ValueError'>\n",
      "{'tags': ['사라사테', '양천와'], 'id': 99116, 'plylst_title': '', 'songs': [367070, 52007, 72831, 130046, 396067, 367606, 246121, 279774, 502820], 'like_cnt': 7, 'updt_date': '2017-08-28 11:12:06.000'}\n"
     ]
    },
    {
     "name": "stderr",
     "output_type": "stream",
     "text": [
      " 16%|█▌        | 3603/23015 [00:56<05:40, 57.01it/s]"
     ]
    },
    {
     "name": "stdout",
     "output_type": "stream",
     "text": [
      "Unexpected error: <class 'ValueError'>\n",
      "{'tags': [], 'id': 134433, 'plylst_title': '', 'songs': [254546, 321061, 563838, 71500, 561629, 642494, 331599, 350659, 512412, 401685, 58273, 336149, 485841, 109238, 228860, 427095, 272661, 644055, 75020, 665869, 435120], 'like_cnt': 400, 'updt_date': '2010-01-05 15:21:54.000'}\n"
     ]
    },
    {
     "name": "stderr",
     "output_type": "stream",
     "text": [
      " 16%|█▌        | 3702/23015 [00:58<05:09, 62.36it/s]"
     ]
    },
    {
     "name": "stdout",
     "output_type": "stream",
     "text": [
      "Unexpected error: <class 'ValueError'>\n",
      "{'tags': [], 'id': 29922, 'plylst_title': '', 'songs': [38180, 238023, 565066, 441591, 451854, 342336, 666825, 521490, 308378, 213473, 687807, 307246], 'like_cnt': 18, 'updt_date': '2010-07-08 13:05:57.000'}\n",
      "Unexpected error: <class 'ValueError'>\n",
      "{'tags': [], 'id': 23381, 'plylst_title': '히퐙히퐙', 'songs': [], 'like_cnt': 24, 'updt_date': '2016-03-25 23:19:41.000'}\n"
     ]
    },
    {
     "name": "stderr",
     "output_type": "stream",
     "text": [
      " 17%|█▋        | 3881/23015 [01:00<04:51, 65.58it/s]"
     ]
    },
    {
     "name": "stdout",
     "output_type": "stream",
     "text": [
      "Unexpected error: <class 'ValueError'>\n",
      "{'tags': [], 'id': 1666, 'plylst_title': '', 'songs': [511471, 281236, 584179, 347141, 317709, 669246, 480808, 378402, 665119, 589750], 'like_cnt': 15, 'updt_date': '2014-04-03 16:24:35.000'}\n",
      "Unexpected error: <class 'ValueError'>\n",
      "{'tags': [], 'id': 57105, 'plylst_title': '', 'songs': [282575, 660515, 597729, 221201, 477537, 380791, 547603], 'like_cnt': 3, 'updt_date': '2016-07-06 16:19:36.000'}\n"
     ]
    },
    {
     "name": "stderr",
     "output_type": "stream",
     "text": [
      " 17%|█▋        | 3947/23015 [01:01<04:47, 66.33it/s]"
     ]
    },
    {
     "name": "stdout",
     "output_type": "stream",
     "text": [
      "Unexpected error: <class 'ValueError'>\n",
      "{'tags': [], 'id': 82447, 'plylst_title': '', 'songs': [327319, 619459, 690250, 336482, 179187, 661633, 199902, 241403, 105791], 'like_cnt': 10, 'updt_date': '2018-09-27 15:25:36.000'}\n",
      "Unexpected error: <class 'ValueError'>\n",
      "{'tags': [], 'id': 98875, 'plylst_title': '', 'songs': [550394, 284232, 153924, 177281, 378412, 231093, 276822, 124355, 393147, 432743, 229585, 670253, 223423, 229206, 302807, 698714, 74478, 660056, 514595, 111319, 605131, 440973, 674480], 'like_cnt': 4, 'updt_date': '2015-02-06 10:37:44.000'}\n"
     ]
    },
    {
     "name": "stderr",
     "output_type": "stream",
     "text": [
      " 18%|█▊        | 4212/23015 [01:06<04:48, 65.09it/s]"
     ]
    },
    {
     "name": "stdout",
     "output_type": "stream",
     "text": [
      "Unexpected error: <class 'ValueError'>\n",
      "{'tags': [], 'id': 55409, 'plylst_title': '', 'songs': [531524, 586749, 575624, 573722, 91994, 255218, 481567, 331660, 568827, 603992], 'like_cnt': 11, 'updt_date': '2020-02-27 11:39:56.000'}\n"
     ]
    },
    {
     "name": "stderr",
     "output_type": "stream",
     "text": [
      " 19%|█▊        | 4287/23015 [01:07<04:45, 65.49it/s]"
     ]
    },
    {
     "name": "stdout",
     "output_type": "stream",
     "text": [
      "Unexpected error: <class 'ValueError'>\n",
      "{'tags': [], 'id': 35613, 'plylst_title': 'lately', 'songs': [], 'like_cnt': 0, 'updt_date': '2020-02-21 22:51:45.000'}\n"
     ]
    },
    {
     "name": "stderr",
     "output_type": "stream",
     "text": [
      " 19%|█▉        | 4354/23015 [01:08<06:20, 48.99it/s]"
     ]
    },
    {
     "name": "stdout",
     "output_type": "stream",
     "text": [
      "Unexpected error: <class 'ValueError'>\n",
      "{'tags': [], 'id': 103287, 'plylst_title': '수수수수', 'songs': [], 'like_cnt': 0, 'updt_date': '2019-08-02 18:29:17.000'}\n"
     ]
    },
    {
     "name": "stderr",
     "output_type": "stream",
     "text": [
      " 19%|█▉        | 4398/23015 [01:09<06:48, 45.53it/s]"
     ]
    },
    {
     "name": "stdout",
     "output_type": "stream",
     "text": [
      "Unexpected error: <class 'ValueError'>\n",
      "{'tags': [], 'id': 21996, 'plylst_title': '', 'songs': [183672, 64043, 30328, 561188, 333208, 62474, 3649, 471538, 474312, 331379], 'like_cnt': 29, 'updt_date': '2020-03-03 18:02:08.000'}\n"
     ]
    },
    {
     "name": "stderr",
     "output_type": "stream",
     "text": [
      " 20%|█▉        | 4577/23015 [01:12<04:41, 65.47it/s]"
     ]
    },
    {
     "name": "stdout",
     "output_type": "stream",
     "text": [
      "Unexpected error: <class 'ValueError'>\n",
      "{'tags': [], 'id': 56968, 'plylst_title': '', 'songs': [527054, 345632, 489052, 363697, 577492], 'like_cnt': 9, 'updt_date': '2019-12-14 01:34:49.000'}\n"
     ]
    },
    {
     "name": "stderr",
     "output_type": "stream",
     "text": [
      " 21%|██        | 4786/23015 [01:15<04:28, 67.99it/s]"
     ]
    },
    {
     "name": "stdout",
     "output_type": "stream",
     "text": [
      "Unexpected error: <class 'ValueError'>\n",
      "{'tags': [], 'id': 28873, 'plylst_title': '', 'songs': [184422, 655519, 584494, 158420, 207995, 374140, 187096, 425470, 390251], 'like_cnt': 42, 'updt_date': '2014-02-12 14:27:32.000'}\n"
     ]
    },
    {
     "name": "stderr",
     "output_type": "stream",
     "text": [
      " 21%|██▏       | 4907/23015 [01:17<04:37, 65.23it/s]"
     ]
    },
    {
     "name": "stdout",
     "output_type": "stream",
     "text": [
      "Unexpected error: <class 'ValueError'>\n",
      "{'tags': [], 'id': 115320, 'plylst_title': '', 'songs': [413635, 702471, 608800, 402238, 629226, 267413, 312947, 361304, 335235], 'like_cnt': 3, 'updt_date': '2015-02-25 17:49:47.000'}\n"
     ]
    },
    {
     "name": "stderr",
     "output_type": "stream",
     "text": [
      " 21%|██▏       | 4929/23015 [01:17<04:29, 67.18it/s]"
     ]
    },
    {
     "name": "stdout",
     "output_type": "stream",
     "text": [
      "Unexpected error: <class 'ValueError'>\n",
      "{'tags': [], 'id': 84627, 'plylst_title': '', 'songs': [420344, 369514, 528969, 259152, 667447, 346904, 483354, 494638, 188807], 'like_cnt': 42, 'updt_date': '2015-02-25 17:48:27.000'}\n"
     ]
    },
    {
     "name": "stderr",
     "output_type": "stream",
     "text": [
      " 22%|██▏       | 5002/23015 [01:18<04:37, 64.98it/s]"
     ]
    },
    {
     "name": "stdout",
     "output_type": "stream",
     "text": [
      "Unexpected error: <class 'ValueError'>\n",
      "{'tags': [], 'id': 97117, 'plylst_title': '', 'songs': [510961, 452494, 456653, 163314], 'like_cnt': 0, 'updt_date': '2017-08-08 16:34:43.000'}\n"
     ]
    },
    {
     "name": "stderr",
     "output_type": "stream",
     "text": [
      " 23%|██▎       | 5202/23015 [01:21<04:27, 66.51it/s]"
     ]
    },
    {
     "name": "stdout",
     "output_type": "stream",
     "text": [
      "Unexpected error: <class 'ValueError'>\n",
      "{'tags': [], 'id': 27418, 'plylst_title': '', 'songs': [203545, 67421, 650791, 50294, 138602, 447197, 427983, 190762, 35690, 228945], 'like_cnt': 0, 'updt_date': '2019-05-03 10:14:33.000'}\n"
     ]
    },
    {
     "name": "stderr",
     "output_type": "stream",
     "text": [
      " 23%|██▎       | 5252/23015 [01:22<04:27, 66.46it/s]"
     ]
    },
    {
     "name": "stdout",
     "output_type": "stream",
     "text": [
      "Unexpected error: <class 'ValueError'>\n",
      "{'tags': [], 'id': 134910, 'plylst_title': '', 'songs': [289229, 423741, 659075, 488824, 83634, 499847, 144597, 653804, 549566, 238483, 606742, 469906, 309674], 'like_cnt': 3, 'updt_date': '2018-04-24 10:39:38.000'}\n"
     ]
    },
    {
     "name": "stderr",
     "output_type": "stream",
     "text": [
      " 24%|██▍       | 5495/23015 [01:26<04:25, 65.99it/s]"
     ]
    },
    {
     "name": "stdout",
     "output_type": "stream",
     "text": [
      "Unexpected error: <class 'ValueError'>\n",
      "{'tags': [], 'id': 99658, 'plylst_title': '', 'songs': [602061, 689371, 644201, 140756], 'like_cnt': 17, 'updt_date': '2015-07-28 16:43:18.000'}\n"
     ]
    },
    {
     "name": "stderr",
     "output_type": "stream",
     "text": [
      " 25%|██▍       | 5647/23015 [01:28<04:19, 67.05it/s]"
     ]
    },
    {
     "name": "stdout",
     "output_type": "stream",
     "text": [
      "Unexpected error: <class 'ValueError'>\n",
      "{'tags': [], 'id': 78944, 'plylst_title': '', 'songs': [231512, 395726, 185255, 698960, 516374, 131962, 477778, 410580, 287591, 341133, 124578, 693955, 422823, 76553, 368616], 'like_cnt': 25, 'updt_date': '2018-04-01 22:35:23.000'}\n"
     ]
    },
    {
     "name": "stderr",
     "output_type": "stream",
     "text": [
      " 26%|██▌       | 5997/23015 [01:34<04:20, 65.36it/s]"
     ]
    },
    {
     "name": "stdout",
     "output_type": "stream",
     "text": [
      "Unexpected error: <class 'ValueError'>\n",
      "{'tags': [], 'id': 27746, 'plylst_title': '', 'songs': [268414], 'like_cnt': 12, 'updt_date': '2016-11-07 15:59:29.000'}\n"
     ]
    },
    {
     "name": "stderr",
     "output_type": "stream",
     "text": [
      " 26%|██▌       | 6033/23015 [01:34<04:23, 64.53it/s]"
     ]
    },
    {
     "name": "stdout",
     "output_type": "stream",
     "text": [
      "Unexpected error: <class 'ValueError'>\n",
      "{'tags': [], 'id': 37339, 'plylst_title': '', 'songs': [687035, 507811], 'like_cnt': 2, 'updt_date': '2015-10-27 18:26:38.000'}\n"
     ]
    },
    {
     "name": "stderr",
     "output_type": "stream",
     "text": [
      " 26%|██▋       | 6054/23015 [01:35<04:41, 60.19it/s]"
     ]
    },
    {
     "name": "stdout",
     "output_type": "stream",
     "text": [
      "Unexpected error: <class 'ValueError'>\n",
      "{'tags': [], 'id': 108512, 'plylst_title': '', 'songs': [567716, 416815, 194659, 497462, 91006, 121371, 571679, 12506, 483771, 108395, 502691, 552669, 588707], 'like_cnt': 1, 'updt_date': '2016-12-07 23:26:27.000'}\n"
     ]
    },
    {
     "name": "stderr",
     "output_type": "stream",
     "text": [
      " 27%|██▋       | 6144/23015 [01:36<04:19, 65.09it/s]"
     ]
    },
    {
     "name": "stdout",
     "output_type": "stream",
     "text": [
      "Unexpected error: <class 'ValueError'>\n",
      "{'tags': [], 'id': 38474, 'plylst_title': '', 'songs': [471400, 511445, 401664, 12879, 356852], 'like_cnt': 16, 'updt_date': '2017-09-14 11:42:10.000'}\n"
     ]
    },
    {
     "name": "stderr",
     "output_type": "stream",
     "text": [
      " 27%|██▋       | 6186/23015 [01:37<04:19, 64.75it/s]"
     ]
    },
    {
     "name": "stdout",
     "output_type": "stream",
     "text": [
      "Unexpected error: <class 'ValueError'>\n",
      "{'tags': [], 'id': 105048, 'plylst_title': '', 'songs': [629324, 503702, 585547, 238911, 118959, 544497, 183808, 496092, 60531, 556, 655879], 'like_cnt': 448, 'updt_date': '2011-11-25 18:33:07.000'}\n"
     ]
    },
    {
     "name": "stderr",
     "output_type": "stream",
     "text": [
      " 28%|██▊       | 6340/23015 [01:40<04:17, 64.85it/s]"
     ]
    },
    {
     "name": "stdout",
     "output_type": "stream",
     "text": [
      "Unexpected error: <class 'ValueError'>\n",
      "{'tags': [], 'id': 92185, 'plylst_title': '', 'songs': [424680, 254434, 93123, 292778, 385684, 611952, 325399, 13898, 584440, 399337, 158628], 'like_cnt': 8, 'updt_date': '2019-12-17 16:58:12.000'}\n"
     ]
    },
    {
     "name": "stderr",
     "output_type": "stream",
     "text": [
      " 28%|██▊       | 6383/23015 [01:40<04:09, 66.65it/s]"
     ]
    },
    {
     "name": "stdout",
     "output_type": "stream",
     "text": [
      "Unexpected error: <class 'ValueError'>\n",
      "{'tags': [], 'id': 65461, 'plylst_title': '', 'songs': [23384, 3222, 538073, 146213, 595211, 475454, 288485], 'like_cnt': 11, 'updt_date': '2020-02-21 17:27:43.000'}\n"
     ]
    },
    {
     "name": "stderr",
     "output_type": "stream",
     "text": [
      " 29%|██▉       | 6673/23015 [01:45<04:25, 61.67it/s]"
     ]
    },
    {
     "name": "stdout",
     "output_type": "stream",
     "text": [
      "Unexpected error: <class 'ValueError'>\n",
      "{'tags': [], 'id': 85337, 'plylst_title': 'ㅍㅊㅍㅊ', 'songs': [], 'like_cnt': 0, 'updt_date': '2018-03-30 13:32:59.000'}\n"
     ]
    },
    {
     "name": "stderr",
     "output_type": "stream",
     "text": [
      " 29%|██▉       | 6729/23015 [01:46<04:21, 62.38it/s]"
     ]
    },
    {
     "name": "stdout",
     "output_type": "stream",
     "text": [
      "Unexpected error: <class 'ValueError'>\n",
      "{'tags': [], 'id': 7123, 'plylst_title': '', 'songs': [301573, 438502, 658855, 386106, 353237, 134510, 377334], 'like_cnt': 3, 'updt_date': '2013-07-17 11:44:01.000'}\n"
     ]
    },
    {
     "name": "stderr",
     "output_type": "stream",
     "text": [
      " 30%|███       | 6979/23015 [01:50<04:02, 66.23it/s]"
     ]
    },
    {
     "name": "stdout",
     "output_type": "stream",
     "text": [
      "Unexpected error: <class 'ValueError'>\n",
      "{'tags': [], 'id': 72616, 'plylst_title': '#playthatjazz #jazz', 'songs': [], 'like_cnt': 64, 'updt_date': '2020-04-23 08:38:55.000'}\n"
     ]
    },
    {
     "name": "stderr",
     "output_type": "stream",
     "text": [
      " 30%|███       | 7001/23015 [01:50<04:04, 65.38it/s]"
     ]
    },
    {
     "name": "stdout",
     "output_type": "stream",
     "text": [
      "Unexpected error: <class 'ValueError'>\n",
      "{'tags': [], 'id': 96405, 'plylst_title': '클템', 'songs': [], 'like_cnt': 12, 'updt_date': '2013-06-04 12:22:44.000'}\n"
     ]
    },
    {
     "name": "stderr",
     "output_type": "stream",
     "text": [
      " 33%|███▎      | 7602/23015 [01:59<03:52, 66.40it/s]"
     ]
    },
    {
     "name": "stdout",
     "output_type": "stream",
     "text": [
      "Unexpected error: <class 'ValueError'>\n",
      "{'tags': [], 'id': 117567, 'plylst_title': '', 'songs': [216302, 659085, 481113, 387844, 249766, 8642, 644381, 94537, 197888, 172112], 'like_cnt': 1, 'updt_date': '2020-03-27 18:07:51.000'}\n"
     ]
    },
    {
     "name": "stderr",
     "output_type": "stream",
     "text": [
      " 33%|███▎      | 7631/23015 [02:00<03:56, 64.99it/s]"
     ]
    },
    {
     "name": "stdout",
     "output_type": "stream",
     "text": [
      "Unexpected error: <class 'ValueError'>\n",
      "{'tags': [], 'id': 13644, 'plylst_title': '', 'songs': [396451, 324889, 194603, 291495, 247114, 555450], 'like_cnt': 125, 'updt_date': '2013-10-15 13:59:31.000'}\n"
     ]
    },
    {
     "name": "stderr",
     "output_type": "stream",
     "text": [
      " 34%|███▍      | 7940/23015 [02:05<03:42, 67.85it/s]"
     ]
    },
    {
     "name": "stdout",
     "output_type": "stream",
     "text": [
      "Unexpected error: <class 'ValueError'>\n",
      "{'tags': [], 'id': 143302, 'plylst_title': '반가워요', 'songs': [], 'like_cnt': 3, 'updt_date': '2018-05-14 18:24:35.000'}\n"
     ]
    },
    {
     "name": "stderr",
     "output_type": "stream",
     "text": [
      " 35%|███▍      | 8014/23015 [02:06<03:42, 67.44it/s]"
     ]
    },
    {
     "name": "stdout",
     "output_type": "stream",
     "text": [
      "Unexpected error: <class 'ValueError'>\n",
      "{'tags': [], 'id': 109595, 'plylst_title': '', 'songs': [187859, 513354, 413272, 286071, 112820, 89260], 'like_cnt': 1, 'updt_date': '2014-09-12 15:23:52.000'}\n"
     ]
    },
    {
     "name": "stderr",
     "output_type": "stream",
     "text": [
      " 37%|███▋      | 8576/23015 [02:15<04:17, 56.12it/s]"
     ]
    },
    {
     "name": "stdout",
     "output_type": "stream",
     "text": [
      "Unexpected error: <class 'ValueError'>\n",
      "{'tags': [], 'id': 12630, 'plylst_title': '', 'songs': [354584, 497504, 225473, 175431, 684597], 'like_cnt': 26, 'updt_date': '2019-07-04 13:20:46.000'}\n"
     ]
    },
    {
     "name": "stderr",
     "output_type": "stream",
     "text": [
      " 37%|███▋      | 8611/23015 [02:15<03:45, 64.01it/s]"
     ]
    },
    {
     "name": "stdout",
     "output_type": "stream",
     "text": [
      "Unexpected error: <class 'ValueError'>\n",
      "{'tags': [], 'id': 86730, 'plylst_title': '', 'songs': [245607, 400101, 340365, 452603, 574609, 541292, 473214, 341051], 'like_cnt': 16, 'updt_date': '2011-05-30 04:41:57.000'}\n"
     ]
    },
    {
     "name": "stderr",
     "output_type": "stream",
     "text": [
      " 38%|███▊      | 8696/23015 [02:17<03:43, 64.00it/s]"
     ]
    },
    {
     "name": "stdout",
     "output_type": "stream",
     "text": [
      "Unexpected error: <class 'ValueError'>\n",
      "{'tags': [], 'id': 44462, 'plylst_title': '', 'songs': [663689, 335979, 102059, 657843, 300083, 469601, 148533, 488017, 415790, 649163, 383692], 'like_cnt': 1, 'updt_date': '2015-05-01 10:04:49.000'}\n"
     ]
    },
    {
     "name": "stderr",
     "output_type": "stream",
     "text": [
      " 40%|████      | 9264/23015 [02:25<03:25, 66.93it/s]"
     ]
    },
    {
     "name": "stdout",
     "output_type": "stream",
     "text": [
      "Unexpected error: <class 'ValueError'>\n",
      "{'tags': [], 'id': 136137, 'plylst_title': '', 'songs': [656370, 641343, 637016, 389722, 131159, 14900, 144658, 370741, 584525, 553729, 542636, 302154], 'like_cnt': 158, 'updt_date': '2010-01-19 15:15:31.000'}\n"
     ]
    },
    {
     "name": "stderr",
     "output_type": "stream",
     "text": [
      " 40%|████      | 9294/23015 [02:25<03:14, 70.44it/s]"
     ]
    },
    {
     "name": "stdout",
     "output_type": "stream",
     "text": [
      "Unexpected error: <class 'ValueError'>\n",
      "{'tags': [], 'id': 108888, 'plylst_title': '', 'songs': [369979, 405182, 662467, 157971, 337764, 216151, 3110, 194715, 221956, 636917, 442935, 178587, 286366, 431853, 331319], 'like_cnt': 29, 'updt_date': '2019-09-30 16:33:17.000'}\n"
     ]
    },
    {
     "name": "stderr",
     "output_type": "stream",
     "text": [
      " 41%|████      | 9340/23015 [02:26<03:15, 69.98it/s]"
     ]
    },
    {
     "name": "stdout",
     "output_type": "stream",
     "text": [
      "Unexpected error: <class 'ValueError'>\n",
      "{'tags': [], 'id': 90005, 'plylst_title': '', 'songs': [203179, 227767, 655488, 357303, 662671, 347205, 444952], 'like_cnt': 14, 'updt_date': '2016-02-12 11:31:18.000'}\n"
     ]
    },
    {
     "name": "stderr",
     "output_type": "stream",
     "text": [
      " 42%|████▏     | 9619/23015 [02:31<03:24, 65.65it/s]"
     ]
    },
    {
     "name": "stdout",
     "output_type": "stream",
     "text": [
      "Unexpected error: <class 'ValueError'>\n",
      "{'tags': [], 'id': 31005, 'plylst_title': '', 'songs': [149697, 170944, 533379, 174493, 152719, 133046, 334556, 361814, 306585, 49462, 641877, 20933, 37587, 270273, 657272, 222633, 551285], 'like_cnt': 1, 'updt_date': '2015-04-02 13:52:43.000'}\n"
     ]
    },
    {
     "name": "stderr",
     "output_type": "stream",
     "text": [
      " 43%|████▎     | 9789/23015 [02:33<03:09, 69.62it/s]"
     ]
    },
    {
     "name": "stdout",
     "output_type": "stream",
     "text": [
      "Unexpected error: <class 'ValueError'>\n",
      "{'tags': [], 'id': 140093, 'plylst_title': '', 'songs': [539734, 200489, 619743, 174420], 'like_cnt': 16, 'updt_date': '2013-03-13 11:34:29.000'}\n",
      "Unexpected error: <class 'ValueError'>\n",
      "{'tags': [], 'id': 37182, 'plylst_title': '', 'songs': [666553, 289291, 439201, 560616, 488876, 288919, 291436, 461239, 698111, 346683, 343742], 'like_cnt': 9, 'updt_date': '2016-08-20 15:25:35.000'}\n"
     ]
    },
    {
     "name": "stderr",
     "output_type": "stream",
     "text": [
      " 43%|████▎     | 9977/23015 [02:36<03:11, 68.24it/s]"
     ]
    },
    {
     "name": "stdout",
     "output_type": "stream",
     "text": [
      "Unexpected error: <class 'ValueError'>\n",
      "{'tags': [], 'id': 26191, 'plylst_title': '', 'songs': [42004, 43581, 664344, 576109, 191195], 'like_cnt': 1, 'updt_date': '2014-08-29 16:35:23.000'}\n"
     ]
    },
    {
     "name": "stderr",
     "output_type": "stream",
     "text": [
      " 44%|████▎     | 10029/23015 [02:37<03:11, 67.67it/s]"
     ]
    },
    {
     "name": "stdout",
     "output_type": "stream",
     "text": [
      "Unexpected error: <class 'ValueError'>\n",
      "{'tags': [], 'id': 50744, 'plylst_title': '', 'songs': [412525, 300058, 622526, 42507, 88438, 554097, 147783, 653078, 237551, 148345, 584303, 700938, 707162, 425452], 'like_cnt': 0, 'updt_date': '2015-11-06 13:58:04.000'}\n"
     ]
    },
    {
     "name": "stderr",
     "output_type": "stream",
     "text": [
      " 44%|████▍     | 10123/23015 [02:38<03:08, 68.42it/s]"
     ]
    },
    {
     "name": "stdout",
     "output_type": "stream",
     "text": [
      "Unexpected error: <class 'ValueError'>\n",
      "{'tags': [], 'id': 73190, 'plylst_title': 'lallalasla', 'songs': [], 'like_cnt': 0, 'updt_date': '2020-04-16 13:50:09.000'}\n"
     ]
    },
    {
     "name": "stderr",
     "output_type": "stream",
     "text": [
      " 44%|████▍     | 10175/23015 [02:39<03:06, 69.01it/s]"
     ]
    },
    {
     "name": "stdout",
     "output_type": "stream",
     "text": [
      "Unexpected error: <class 'ValueError'>\n",
      "{'tags': [], 'id': 95151, 'plylst_title': '', 'songs': [245587, 79077, 113777, 355676, 196389, 695367, 182893, 83918, 234124], 'like_cnt': 5, 'updt_date': '2017-09-28 16:42:25.000'}\n"
     ]
    },
    {
     "name": "stderr",
     "output_type": "stream",
     "text": [
      " 45%|████▍     | 10348/23015 [02:42<03:08, 67.27it/s]"
     ]
    },
    {
     "name": "stdout",
     "output_type": "stream",
     "text": [
      "Unexpected error: <class 'ValueError'>\n",
      "{'tags': [], 'id': 4099, 'plylst_title': '', 'songs': [226775, 443026, 530606, 552267, 72681, 193111, 200799, 10881, 380791, 401621], 'like_cnt': 7, 'updt_date': '2016-07-06 12:11:11.000'}\n"
     ]
    },
    {
     "name": "stderr",
     "output_type": "stream",
     "text": [
      " 46%|████▋     | 10692/23015 [02:47<03:03, 67.30it/s]"
     ]
    },
    {
     "name": "stdout",
     "output_type": "stream",
     "text": [
      "Unexpected error: <class 'ValueError'>\n",
      "{'tags': [], 'id': 124441, 'plylst_title': '', 'songs': [383863, 204604, 137836, 141365, 501116, 119978, 603279, 554413, 359125], 'like_cnt': 7, 'updt_date': '2018-04-23 15:13:26.000'}\n"
     ]
    },
    {
     "name": "stderr",
     "output_type": "stream",
     "text": [
      " 47%|████▋     | 10764/23015 [02:48<03:03, 66.72it/s]"
     ]
    },
    {
     "name": "stdout",
     "output_type": "stream",
     "text": [
      "Unexpected error: <class 'ValueError'>\n",
      "{'tags': ['바이노럴비트'], 'id': 34382, 'plylst_title': '', 'songs': [179075, 611830, 48135, 328961, 400492, 627777], 'like_cnt': 20, 'updt_date': '2018-02-07 17:54:41.000'}\n"
     ]
    },
    {
     "name": "stderr",
     "output_type": "stream",
     "text": [
      " 48%|████▊     | 10968/23015 [02:51<02:54, 69.20it/s]"
     ]
    },
    {
     "name": "stdout",
     "output_type": "stream",
     "text": [
      "Unexpected error: <class 'ValueError'>\n",
      "{'tags': [], 'id': 98144, 'plylst_title': 'ㅡㅡㅡㅡㅡ', 'songs': [], 'like_cnt': 1, 'updt_date': '2017-12-23 15:57:17.000'}\n"
     ]
    },
    {
     "name": "stderr",
     "output_type": "stream",
     "text": [
      " 48%|████▊     | 11032/23015 [02:52<02:58, 67.12it/s]"
     ]
    },
    {
     "name": "stdout",
     "output_type": "stream",
     "text": [
      "Unexpected error: <class 'ValueError'>\n",
      "{'tags': [], 'id': 50333, 'plylst_title': '', 'songs': [406422, 387586, 375369, 353853, 242968, 685467, 704821, 529277, 5734, 218084, 99864, 60100], 'like_cnt': 50, 'updt_date': '2020-04-11 04:22:33.000'}\n"
     ]
    },
    {
     "name": "stderr",
     "output_type": "stream",
     "text": [
      " 49%|████▉     | 11343/23015 [02:56<02:17, 84.83it/s]"
     ]
    },
    {
     "name": "stdout",
     "output_type": "stream",
     "text": [
      "Unexpected error: <class 'ValueError'>\n",
      "{'tags': [], 'id': 148982, 'plylst_title': '', 'songs': [310549, 57752, 633963, 518088, 387026], 'like_cnt': 2, 'updt_date': '2016-06-08 16:09:58.000'}\n"
     ]
    },
    {
     "name": "stderr",
     "output_type": "stream",
     "text": [
      " 50%|████▉     | 11443/23015 [02:58<02:17, 83.99it/s]"
     ]
    },
    {
     "name": "stdout",
     "output_type": "stream",
     "text": [
      "Unexpected error: <class 'ValueError'>\n",
      "{'tags': [], 'id': 148943, 'plylst_title': '', 'songs': [215895, 683257, 662476, 641216, 691473, 86602], 'like_cnt': 0, 'updt_date': '2015-10-02 15:11:29.000'}\n"
     ]
    },
    {
     "name": "stderr",
     "output_type": "stream",
     "text": [
      " 50%|█████     | 11525/23015 [02:59<02:10, 87.76it/s]"
     ]
    },
    {
     "name": "stdout",
     "output_type": "stream",
     "text": [
      "Unexpected error: <class 'ValueError'>\n",
      "{'tags': [], 'id': 30025, 'plylst_title': 'ddddd', 'songs': [], 'like_cnt': 0, 'updt_date': '2020-04-16 13:49:30.000'}\n"
     ]
    },
    {
     "name": "stderr",
     "output_type": "stream",
     "text": [
      " 50%|█████     | 11608/23015 [03:00<02:12, 86.25it/s]"
     ]
    },
    {
     "name": "stdout",
     "output_type": "stream",
     "text": [
      "Unexpected error: <class 'ValueError'>\n",
      "{'tags': [], 'id': 68028, 'plylst_title': '', 'songs': [433956, 538433, 63356, 477016, 645394, 308059, 227811, 319066, 698414, 449254, 170938, 655384, 386686, 361575], 'like_cnt': 1, 'updt_date': '2015-10-13 10:44:39.000'}\n"
     ]
    },
    {
     "name": "stderr",
     "output_type": "stream",
     "text": [
      " 51%|█████     | 11766/23015 [03:01<02:10, 86.19it/s]"
     ]
    },
    {
     "name": "stdout",
     "output_type": "stream",
     "text": [
      "Unexpected error: <class 'ValueError'>\n",
      "{'tags': [], 'id': 61247, 'plylst_title': 'Ppppop', 'songs': [], 'like_cnt': 4, 'updt_date': '2017-09-27 11:32:54.000'}\n"
     ]
    },
    {
     "name": "stderr",
     "output_type": "stream",
     "text": [
      " 51%|█████▏    | 11821/23015 [03:02<02:10, 86.06it/s]"
     ]
    },
    {
     "name": "stdout",
     "output_type": "stream",
     "text": [
      "Unexpected error: <class 'ValueError'>\n",
      "{'tags': [], 'id': 131838, 'plylst_title': '', 'songs': [393915, 177798, 199957, 155038, 108378, 493147, 22741, 165586, 126722, 260787, 394443, 44050], 'like_cnt': 1, 'updt_date': '2015-11-09 14:13:20.000'}\n"
     ]
    },
    {
     "name": "stderr",
     "output_type": "stream",
     "text": [
      " 52%|█████▏    | 11966/23015 [03:04<02:07, 86.82it/s]"
     ]
    },
    {
     "name": "stdout",
     "output_type": "stream",
     "text": [
      "Unexpected error: <class 'ValueError'>\n",
      "{'tags': [], 'id': 112246, 'plylst_title': '', 'songs': [196900, 445164, 235306, 521996, 129368, 548467, 532524, 71207, 610859, 306769, 700003, 533430, 517776, 227784, 94622], 'like_cnt': 1, 'updt_date': '2015-10-02 14:52:10.000'}\n"
     ]
    },
    {
     "name": "stderr",
     "output_type": "stream",
     "text": [
      " 52%|█████▏    | 12039/23015 [03:05<02:07, 86.23it/s]"
     ]
    },
    {
     "name": "stdout",
     "output_type": "stream",
     "text": [
      "Unexpected error: <class 'ValueError'>\n",
      "{'tags': [], 'id': 21185, 'plylst_title': '', 'songs': [534692, 298042, 137032, 464016, 547312], 'like_cnt': 0, 'updt_date': '2015-11-19 11:51:52.000'}\n"
     ]
    },
    {
     "name": "stderr",
     "output_type": "stream",
     "text": [
      " 54%|█████▍    | 12466/23015 [03:11<02:36, 67.30it/s]"
     ]
    },
    {
     "name": "stdout",
     "output_type": "stream",
     "text": [
      "Unexpected error: <class 'ValueError'>\n",
      "{'tags': [], 'id': 69838, 'plylst_title': '', 'songs': [407838, 266630, 79469, 607192], 'like_cnt': 83, 'updt_date': '2009-07-17 07:48:33.000'}\n"
     ]
    },
    {
     "name": "stderr",
     "output_type": "stream",
     "text": [
      " 54%|█████▍    | 12488/23015 [03:11<02:44, 63.83it/s]"
     ]
    },
    {
     "name": "stdout",
     "output_type": "stream",
     "text": [
      "Unexpected error: <class 'ValueError'>\n",
      "{'tags': [], 'id': 129497, 'plylst_title': '', 'songs': [170586, 76706, 266272, 245254, 654619, 665472, 375307, 626794], 'like_cnt': 5, 'updt_date': '2016-01-16 13:21:31.000'}\n"
     ]
    },
    {
     "name": "stderr",
     "output_type": "stream",
     "text": [
      " 54%|█████▍    | 12525/23015 [03:12<02:38, 66.07it/s]"
     ]
    },
    {
     "name": "stdout",
     "output_type": "stream",
     "text": [
      "Unexpected error: <class 'ValueError'>\n",
      "{'tags': [], 'id': 38198, 'plylst_title': 'swwwwwww', 'songs': [], 'like_cnt': 3, 'updt_date': '2019-05-11 02:58:08.000'}\n"
     ]
    },
    {
     "name": "stderr",
     "output_type": "stream",
     "text": [
      " 55%|█████▍    | 12578/23015 [03:13<02:27, 70.95it/s]"
     ]
    },
    {
     "name": "stdout",
     "output_type": "stream",
     "text": [
      "Unexpected error: <class 'ValueError'>\n",
      "{'tags': [], 'id': 135774, 'plylst_title': '', 'songs': [664549, 344158, 208244, 429442, 415287, 655039], 'like_cnt': 0, 'updt_date': '2014-09-03 17:49:08.000'}\n",
      "Unexpected error: <class 'ValueError'>\n",
      "{'tags': [], 'id': 55140, 'plylst_title': '', 'songs': [485214, 507702, 550263, 307681, 5995, 284042, 62540, 348732, 612488, 144268, 366475], 'like_cnt': 46, 'updt_date': '2018-12-05 09:58:14.000'}\n"
     ]
    },
    {
     "name": "stderr",
     "output_type": "stream",
     "text": [
      " 55%|█████▌    | 12727/23015 [03:15<02:41, 63.63it/s]"
     ]
    },
    {
     "name": "stdout",
     "output_type": "stream",
     "text": [
      "Unexpected error: <class 'ValueError'>\n",
      "{'tags': [], 'id': 148376, 'plylst_title': '', 'songs': [490068, 390509, 409733, 433922, 626186, 372368, 599037, 686007, 372997, 588054], 'like_cnt': 36, 'updt_date': '2019-05-27 17:58:51.000'}\n"
     ]
    },
    {
     "name": "stderr",
     "output_type": "stream",
     "text": [
      " 57%|█████▋    | 13054/23015 [03:20<02:19, 71.23it/s]"
     ]
    },
    {
     "name": "stdout",
     "output_type": "stream",
     "text": [
      "Unexpected error: <class 'ValueError'>\n",
      "{'tags': [], 'id': 128293, 'plylst_title': '', 'songs': [87059, 144489], 'like_cnt': 202, 'updt_date': '2015-05-21 13:16:19.000'}\n"
     ]
    },
    {
     "name": "stderr",
     "output_type": "stream",
     "text": [
      " 57%|█████▋    | 13160/23015 [03:22<02:26, 67.26it/s]"
     ]
    },
    {
     "name": "stdout",
     "output_type": "stream",
     "text": [
      "Unexpected error: <class 'ValueError'>\n",
      "{'tags': [], 'id': 118420, 'plylst_title': '', 'songs': [687004, 341165, 545561, 276489], 'like_cnt': 81, 'updt_date': '2015-04-28 15:16:53.000'}\n",
      "Unexpected error: <class 'ValueError'>\n",
      "{'tags': [], 'id': 146707, 'plylst_title': 'ㄱㄷㄷㅅㄷ', 'songs': [], 'like_cnt': 0, 'updt_date': '2015-10-19 10:32:13.000'}\n"
     ]
    },
    {
     "name": "stderr",
     "output_type": "stream",
     "text": [
      " 60%|█████▉    | 13695/23015 [03:30<02:14, 69.14it/s]"
     ]
    },
    {
     "name": "stdout",
     "output_type": "stream",
     "text": [
      "Unexpected error: <class 'ValueError'>\n",
      "{'tags': [], 'id': 129492, 'plylst_title': '', 'songs': [435952, 569804, 439795, 280851, 78943, 561630], 'like_cnt': 5, 'updt_date': '2019-01-22 10:06:15.000'}\n"
     ]
    },
    {
     "name": "stderr",
     "output_type": "stream",
     "text": [
      " 61%|██████▏   | 14126/23015 [03:36<01:52, 78.76it/s]"
     ]
    },
    {
     "name": "stdout",
     "output_type": "stream",
     "text": [
      "Unexpected error: <class 'ValueError'>\n",
      "{'tags': [], 'id': 135861, 'plylst_title': '7777777', 'songs': [], 'like_cnt': 2, 'updt_date': '2018-12-10 18:24:12.000'}\n"
     ]
    },
    {
     "name": "stderr",
     "output_type": "stream",
     "text": [
      " 62%|██████▏   | 14208/23015 [03:38<02:14, 65.62it/s]"
     ]
    },
    {
     "name": "stdout",
     "output_type": "stream",
     "text": [
      "Unexpected error: <class 'ValueError'>\n",
      "{'tags': [], 'id': 138972, 'plylst_title': '', 'songs': [215371, 523218, 511249, 268305, 280104, 411548, 214095, 406690, 450821, 650202, 620637, 279945, 704915, 324905, 577458, 450787, 203646, 516508, 375950, 400689, 139750, 429996, 678414, 585636, 315967, 241441, 68559, 138451, 183815, 486595, 679562, 454755, 670146, 161679, 281058, 108791, 365022, 405132, 15896, 20098, 411769, 542373, 701184, 121098, 380617], 'like_cnt': 3, 'updt_date': '2019-03-26 13:46:00.000'}\n",
      "Unexpected error: <class 'ValueError'>\n",
      "{'tags': [], 'id': 99178, 'plylst_title': '', 'songs': [252517, 338643, 430841, 664714], 'like_cnt': 113, 'updt_date': '2019-10-29 14:06:16.000'}\n"
     ]
    },
    {
     "name": "stderr",
     "output_type": "stream",
     "text": [
      " 63%|██████▎   | 14398/23015 [03:41<02:19, 61.87it/s]"
     ]
    },
    {
     "name": "stdout",
     "output_type": "stream",
     "text": [
      "Unexpected error: <class 'ValueError'>\n",
      "{'tags': [], 'id': 46808, 'plylst_title': '', 'songs': [394761], 'like_cnt': 3, 'updt_date': '2014-06-13 10:58:05.000'}\n"
     ]
    },
    {
     "name": "stderr",
     "output_type": "stream",
     "text": [
      " 63%|██████▎   | 14441/23015 [03:41<02:22, 60.28it/s]"
     ]
    },
    {
     "name": "stdout",
     "output_type": "stream",
     "text": [
      "Unexpected error: <class 'ValueError'>\n",
      "{'tags': [], 'id': 148338, 'plylst_title': '', 'songs': [104258, 295771, 414685, 452826, 184295, 210272, 593262, 455987, 468460, 382912, 677506, 4947, 325313, 211202, 413101, 41767, 699596, 332276, 235580], 'like_cnt': 60, 'updt_date': '2017-03-15 21:05:35.000'}\n"
     ]
    },
    {
     "name": "stderr",
     "output_type": "stream",
     "text": [
      " 64%|██████▍   | 14720/23015 [03:46<02:00, 68.69it/s]"
     ]
    },
    {
     "name": "stdout",
     "output_type": "stream",
     "text": [
      "Unexpected error: <class 'ValueError'>\n",
      "{'tags': [], 'id': 59072, 'plylst_title': '', 'songs': [656739, 42134, 637254, 380183, 409587, 681231, 679375, 13952], 'like_cnt': 27, 'updt_date': '2017-04-04 18:00:43.000'}\n"
     ]
    },
    {
     "name": "stderr",
     "output_type": "stream",
     "text": [
      " 64%|██████▍   | 14842/23015 [03:48<02:14, 60.92it/s]"
     ]
    },
    {
     "name": "stdout",
     "output_type": "stream",
     "text": [
      "Unexpected error: <class 'ValueError'>\n",
      "{'tags': [], 'id': 125533, 'plylst_title': '', 'songs': [498032, 219597, 449997, 185169, 166098, 383337, 162769], 'like_cnt': 21, 'updt_date': '2015-09-10 10:42:11.000'}\n"
     ]
    },
    {
     "name": "stderr",
     "output_type": "stream",
     "text": [
      " 66%|██████▌   | 15126/23015 [03:52<01:53, 69.68it/s]"
     ]
    },
    {
     "name": "stdout",
     "output_type": "stream",
     "text": [
      "Unexpected error: <class 'ValueError'>\n",
      "{'tags': [], 'id': 151754, 'plylst_title': '', 'songs': [259692, 322797, 297476, 327829, 184064, 596112, 493557, 493269, 669987, 263820, 295568, 531204, 298478, 455858, 398844, 420563, 140389, 313341, 667476, 449211], 'like_cnt': 147, 'updt_date': '2019-04-23 01:45:45.000'}\n"
     ]
    },
    {
     "name": "stderr",
     "output_type": "stream",
     "text": [
      " 66%|██████▌   | 15158/23015 [03:53<01:53, 69.27it/s]"
     ]
    },
    {
     "name": "stdout",
     "output_type": "stream",
     "text": [
      "Unexpected error: <class 'ValueError'>\n",
      "{'tags': [], 'id': 114788, 'plylst_title': 'Dddd', 'songs': [], 'like_cnt': 20, 'updt_date': '2018-09-05 05:33:53.000'}\n"
     ]
    },
    {
     "name": "stderr",
     "output_type": "stream",
     "text": [
      " 66%|██████▌   | 15244/23015 [03:54<01:56, 66.77it/s]"
     ]
    },
    {
     "name": "stdout",
     "output_type": "stream",
     "text": [
      "Unexpected error: <class 'ValueError'>\n",
      "{'tags': [], 'id': 72774, 'plylst_title': '', 'songs': [680415, 14795, 83215, 103488, 532141, 239392, 433988, 306496, 61374, 275511], 'like_cnt': 0, 'updt_date': '2015-10-02 14:47:44.000'}\n"
     ]
    },
    {
     "name": "stderr",
     "output_type": "stream",
     "text": [
      " 68%|██████▊   | 15619/23015 [03:59<01:49, 67.54it/s]"
     ]
    },
    {
     "name": "stdout",
     "output_type": "stream",
     "text": [
      "Unexpected error: <class 'ValueError'>\n",
      "{'tags': [], 'id': 68709, 'plylst_title': '', 'songs': [240059, 172363, 677058, 195075, 65303, 233398, 253887, 225730, 92077, 37695, 663726, 589861, 87992, 539295], 'like_cnt': 35, 'updt_date': '2008-09-27 16:05:40.000'}\n"
     ]
    },
    {
     "name": "stderr",
     "output_type": "stream",
     "text": [
      " 71%|███████   | 16250/23015 [04:09<01:41, 66.76it/s]"
     ]
    },
    {
     "name": "stdout",
     "output_type": "stream",
     "text": [
      "Unexpected error: <class 'ValueError'>\n",
      "{'tags': [], 'id': 35048, 'plylst_title': '', 'songs': [87528, 317877, 8604, 351949, 100512, 664944, 253233, 406732, 39985, 270107], 'like_cnt': 12, 'updt_date': '2017-07-26 15:38:37.000'}\n"
     ]
    },
    {
     "name": "stderr",
     "output_type": "stream",
     "text": [
      " 71%|███████▏  | 16453/23015 [04:12<01:38, 66.47it/s]"
     ]
    },
    {
     "name": "stdout",
     "output_type": "stream",
     "text": [
      "Unexpected error: <class 'ValueError'>\n",
      "{'tags': [], 'id': 60283, 'plylst_title': '', 'songs': [208954, 334972, 171953, 707219, 99874], 'like_cnt': 25, 'updt_date': '2015-12-01 15:51:59.000'}\n"
     ]
    },
    {
     "name": "stderr",
     "output_type": "stream",
     "text": [
      " 72%|███████▏  | 16489/23015 [04:13<01:38, 66.34it/s]"
     ]
    },
    {
     "name": "stdout",
     "output_type": "stream",
     "text": [
      "Unexpected error: <class 'ValueError'>\n",
      "{'tags': [], 'id': 121542, 'plylst_title': '', 'songs': [608918, 175935, 154385, 85681, 568693, 161347, 617693, 644764, 678188, 394296], 'like_cnt': 17, 'updt_date': '2019-11-06 18:01:02.000'}\n"
     ]
    },
    {
     "name": "stderr",
     "output_type": "stream",
     "text": [
      " 73%|███████▎  | 16804/23015 [04:18<01:32, 67.19it/s]"
     ]
    },
    {
     "name": "stdout",
     "output_type": "stream",
     "text": [
      "Unexpected error: <class 'ValueError'>\n",
      "{'tags': [], 'id': 145239, 'plylst_title': 'ㄱㅈㅇㄱㅈㅁ', 'songs': [], 'like_cnt': 1, 'updt_date': '2020-01-07 21:34:21.000'}\n"
     ]
    },
    {
     "name": "stderr",
     "output_type": "stream",
     "text": [
      " 74%|███████▍  | 16992/23015 [04:21<01:42, 58.79it/s]"
     ]
    },
    {
     "name": "stdout",
     "output_type": "stream",
     "text": [
      "Unexpected error: <class 'ValueError'>\n",
      "{'tags': [], 'id': 148520, 'plylst_title': '', 'songs': [409191, 209662, 604440, 202869, 503444, 432942], 'like_cnt': 93, 'updt_date': '2013-10-11 16:02:25.000'}\n"
     ]
    },
    {
     "name": "stderr",
     "output_type": "stream",
     "text": [
      " 74%|███████▍  | 17112/23015 [04:23<01:43, 56.87it/s]"
     ]
    },
    {
     "name": "stdout",
     "output_type": "stream",
     "text": [
      "Unexpected error: <class 'ValueError'>\n",
      "{'tags': [], 'id': 126175, 'plylst_title': '', 'songs': [544636, 26208, 333911, 287305, 567271, 137448, 57387, 121292, 476038, 459070, 647157, 106367, 5790, 480069], 'like_cnt': 11, 'updt_date': '2011-05-11 17:45:34.000'}\n",
      "Unexpected error: <class 'ValueError'>\n",
      "{'tags': [], 'id': 92462, 'plylst_title': 'gggggg', 'songs': [], 'like_cnt': 0, 'updt_date': '2020-04-16 13:50:21.000'}\n"
     ]
    },
    {
     "name": "stderr",
     "output_type": "stream",
     "text": [
      " 77%|███████▋  | 17625/23015 [04:31<01:19, 67.77it/s]"
     ]
    },
    {
     "name": "stdout",
     "output_type": "stream",
     "text": [
      "Unexpected error: <class 'ValueError'>\n",
      "{'tags': [], 'id': 121119, 'plylst_title': '진희', 'songs': [], 'like_cnt': 0, 'updt_date': '2014-02-06 02:07:19.000'}\n"
     ]
    },
    {
     "name": "stderr",
     "output_type": "stream",
     "text": [
      " 77%|███████▋  | 17735/23015 [04:33<01:22, 63.75it/s]"
     ]
    },
    {
     "name": "stdout",
     "output_type": "stream",
     "text": [
      "Unexpected error: <class 'ValueError'>\n",
      "{'tags': [], 'id': 96623, 'plylst_title': '', 'songs': [240973, 74578, 642108, 453452, 122417, 568843, 453355, 55135, 515153, 701449, 118982], 'like_cnt': 15, 'updt_date': '2020-03-01 09:38:10.000'}\n"
     ]
    },
    {
     "name": "stderr",
     "output_type": "stream",
     "text": [
      " 78%|███████▊  | 17848/23015 [04:34<01:23, 62.20it/s]"
     ]
    },
    {
     "name": "stdout",
     "output_type": "stream",
     "text": [
      "Unexpected error: <class 'ValueError'>\n",
      "{'tags': [], 'id': 136660, 'plylst_title': '', 'songs': [673757, 643126, 437056, 691181, 456686, 115255, 19963, 435191], 'like_cnt': 7, 'updt_date': '2019-07-22 17:44:33.000'}\n"
     ]
    },
    {
     "name": "stderr",
     "output_type": "stream",
     "text": [
      " 78%|███████▊  | 17978/23015 [04:36<01:11, 70.85it/s]"
     ]
    },
    {
     "name": "stdout",
     "output_type": "stream",
     "text": [
      "Unexpected error: <class 'ValueError'>\n",
      "{'tags': [], 'id': 2050, 'plylst_title': '', 'songs': [5028, 133135, 30169, 87052, 694635, 596614, 594681], 'like_cnt': 2, 'updt_date': '2020-02-10 17:18:44.000'}\n"
     ]
    },
    {
     "name": "stderr",
     "output_type": "stream",
     "text": [
      " 79%|███████▉  | 18262/23015 [04:41<01:13, 65.02it/s]"
     ]
    },
    {
     "name": "stdout",
     "output_type": "stream",
     "text": [
      "Unexpected error: <class 'ValueError'>\n",
      "{'tags': [], 'id': 105760, 'plylst_title': '', 'songs': [582297, 67501], 'like_cnt': 1, 'updt_date': '2015-04-19 16:28:12.000'}\n"
     ]
    },
    {
     "name": "stderr",
     "output_type": "stream",
     "text": [
      " 80%|███████▉  | 18338/23015 [04:42<01:02, 74.82it/s]"
     ]
    },
    {
     "name": "stdout",
     "output_type": "stream",
     "text": [
      "Unexpected error: <class 'ValueError'>\n",
      "{'tags': ['희망을주는'], 'id': 118701, 'plylst_title': '', 'songs': [555988, 9558, 688945, 323771, 123275, 76600, 36581, 324983, 339901, 166912, 651632, 192692, 141684, 502261], 'like_cnt': 1, 'updt_date': '2019-07-11 22:39:27.000'}\n",
      "Unexpected error: <class 'ValueError'>\n",
      "{'tags': [], 'id': 92577, 'plylst_title': 'Nightwish', 'songs': [], 'like_cnt': 8, 'updt_date': '2015-12-17 16:15:22.000'}\n"
     ]
    },
    {
     "name": "stderr",
     "output_type": "stream",
     "text": [
      " 81%|████████  | 18545/23015 [04:45<01:10, 63.60it/s]"
     ]
    },
    {
     "name": "stdout",
     "output_type": "stream",
     "text": [
      "Unexpected error: <class 'ValueError'>\n",
      "{'tags': [], 'id': 136811, 'plylst_title': '', 'songs': [363189, 579589, 332845, 690200, 121789, 447852, 661189, 190417, 200320], 'like_cnt': 3, 'updt_date': '2020-04-20 20:01:01.000'}\n",
      "Unexpected error: <class 'ValueError'>\n",
      "{'tags': [], 'id': 152513, 'plylst_title': '', 'songs': [48215, 6785, 638378, 701955, 292606, 210208, 329454, 639024, 74107, 556374, 437625, 201627, 576796, 687593, 544366, 667130, 327238, 627659, 279853, 155639, 258211, 383394, 50305, 511149, 514426, 576457, 428237, 632376], 'like_cnt': 0, 'updt_date': '2017-07-14 10:20:37.000'}\n"
     ]
    },
    {
     "name": "stderr",
     "output_type": "stream",
     "text": [
      " 81%|████████  | 18560/23015 [04:46<01:08, 65.01it/s]"
     ]
    },
    {
     "name": "stdout",
     "output_type": "stream",
     "text": [
      "Unexpected error: <class 'ValueError'>\n",
      "{'tags': [], 'id': 145595, 'plylst_title': 'ㅋㅋㅋㅋㅋㅋㅋㅋ', 'songs': [], 'like_cnt': 0, 'updt_date': '2020-04-16 13:50:41.000'}\n"
     ]
    },
    {
     "name": "stderr",
     "output_type": "stream",
     "text": [
      " 81%|████████  | 18667/23015 [04:47<01:10, 61.35it/s]"
     ]
    },
    {
     "name": "stdout",
     "output_type": "stream",
     "text": [
      "Unexpected error: <class 'ValueError'>\n",
      "{'tags': [], 'id': 135338, 'plylst_title': '', 'songs': [545329, 88246, 364073, 488704, 230490, 174465, 246138, 62103, 599578, 245237], 'like_cnt': 36, 'updt_date': '2018-09-04 10:38:34.000'}\n"
     ]
    },
    {
     "name": "stderr",
     "output_type": "stream",
     "text": [
      " 82%|████████▏ | 18788/23015 [04:49<01:03, 66.53it/s]"
     ]
    },
    {
     "name": "stdout",
     "output_type": "stream",
     "text": [
      "Unexpected error: <class 'ValueError'>\n",
      "{'tags': [], 'id': 100059, 'plylst_title': '', 'songs': [48758, 139044, 101098, 697551, 290558, 398071, 370285, 34755, 68402, 506101], 'like_cnt': 9, 'updt_date': '2019-05-16 15:21:43.000'}\n",
      "Unexpected error: <class 'ValueError'>\n",
      "{'tags': [], 'id': 28506, 'plylst_title': '', 'songs': [567269, 322349, 664020, 156965, 344864, 266711, 458675, 584827, 182988, 551283, 237691], 'like_cnt': 19, 'updt_date': '2011-07-03 20:07:58.000'}\n"
     ]
    },
    {
     "name": "stderr",
     "output_type": "stream",
     "text": [
      " 83%|████████▎ | 19028/23015 [04:53<01:05, 61.03it/s]"
     ]
    },
    {
     "name": "stdout",
     "output_type": "stream",
     "text": [
      "Unexpected error: <class 'ValueError'>\n",
      "{'tags': [], 'id': 43034, 'plylst_title': '1111111111111111', 'songs': [], 'like_cnt': 0, 'updt_date': '2016-07-12 19:09:29.000'}\n"
     ]
    },
    {
     "name": "stderr",
     "output_type": "stream",
     "text": [
      " 83%|████████▎ | 19078/23015 [04:54<01:02, 62.85it/s]"
     ]
    },
    {
     "name": "stdout",
     "output_type": "stream",
     "text": [
      "Unexpected error: <class 'ValueError'>\n",
      "{'tags': [], 'id': 79289, 'plylst_title': '', 'songs': [307659, 531275], 'like_cnt': 2, 'updt_date': '2015-10-02 14:47:44.000'}\n"
     ]
    },
    {
     "name": "stderr",
     "output_type": "stream",
     "text": [
      " 83%|████████▎ | 19167/23015 [04:55<01:11, 53.87it/s]"
     ]
    },
    {
     "name": "stdout",
     "output_type": "stream",
     "text": [
      "Unexpected error: <class 'ValueError'>\n",
      "{'tags': [], 'id': 51188, 'plylst_title': '', 'songs': [340201, 162034, 610539, 136026, 173525], 'like_cnt': 1372, 'updt_date': '2010-01-07 15:48:48.000'}\n"
     ]
    },
    {
     "name": "stderr",
     "output_type": "stream",
     "text": [
      " 84%|████████▎ | 19265/23015 [04:57<01:00, 62.04it/s]"
     ]
    },
    {
     "name": "stdout",
     "output_type": "stream",
     "text": [
      "Unexpected error: <class 'ValueError'>\n",
      "{'tags': [], 'id': 35744, 'plylst_title': '', 'songs': [325208, 620280, 577775, 498554], 'like_cnt': 28, 'updt_date': '2017-12-18 18:20:05.000'}\n"
     ]
    },
    {
     "name": "stderr",
     "output_type": "stream",
     "text": [
      " 84%|████████▍ | 19328/23015 [04:58<00:58, 62.89it/s]"
     ]
    },
    {
     "name": "stdout",
     "output_type": "stream",
     "text": [
      "Unexpected error: <class 'ValueError'>\n",
      "{'tags': [], 'id': 5890, 'plylst_title': '', 'songs': [324981, 408351], 'like_cnt': 3, 'updt_date': '2015-10-05 13:17:03.000'}\n"
     ]
    },
    {
     "name": "stderr",
     "output_type": "stream",
     "text": [
      " 85%|████████▌ | 19640/23015 [05:04<00:56, 59.38it/s]"
     ]
    },
    {
     "name": "stdout",
     "output_type": "stream",
     "text": [
      "Unexpected error: <class 'ValueError'>\n",
      "{'tags': [], 'id': 151265, 'plylst_title': '', 'songs': [52820, 20947], 'like_cnt': 0, 'updt_date': '2015-10-02 14:47:50.000'}\n"
     ]
    },
    {
     "name": "stderr",
     "output_type": "stream",
     "text": [
      " 85%|████████▌ | 19661/23015 [05:04<00:53, 62.14it/s]"
     ]
    },
    {
     "name": "stdout",
     "output_type": "stream",
     "text": [
      "Unexpected error: <class 'ValueError'>\n",
      "{'tags': [], 'id': 50468, 'plylst_title': '존곡', 'songs': [], 'like_cnt': 1, 'updt_date': '2014-06-13 03:41:28.000'}\n"
     ]
    },
    {
     "name": "stderr",
     "output_type": "stream",
     "text": [
      " 86%|████████▌ | 19783/23015 [05:06<00:49, 65.75it/s]"
     ]
    },
    {
     "name": "stdout",
     "output_type": "stream",
     "text": [
      "Unexpected error: <class 'ValueError'>\n",
      "{'tags': [], 'id': 112545, 'plylst_title': '', 'songs': [521906, 22592, 416288, 655791, 45799, 310642, 305084, 698246, 468233, 76110], 'like_cnt': 184, 'updt_date': '2019-12-30 17:01:21.000'}\n"
     ]
    },
    {
     "name": "stderr",
     "output_type": "stream",
     "text": [
      " 86%|████████▌ | 19811/23015 [05:06<00:50, 63.57it/s]"
     ]
    },
    {
     "name": "stdout",
     "output_type": "stream",
     "text": [
      "Unexpected error: <class 'ValueError'>\n",
      "{'tags': [], 'id': 113118, 'plylst_title': '', 'songs': [90637], 'like_cnt': 12, 'updt_date': '2011-02-27 04:44:42.000'}\n"
     ]
    },
    {
     "name": "stderr",
     "output_type": "stream",
     "text": [
      " 86%|████████▌ | 19840/23015 [05:07<00:50, 62.36it/s]"
     ]
    },
    {
     "name": "stdout",
     "output_type": "stream",
     "text": [
      "Unexpected error: <class 'ValueError'>\n",
      "{'tags': [], 'id': 23367, 'plylst_title': '', 'songs': [527178, 443183, 68441, 563662, 207075, 437986, 283909, 374058], 'like_cnt': 1, 'updt_date': '2015-08-17 15:00:16.000'}\n"
     ]
    },
    {
     "name": "stderr",
     "output_type": "stream",
     "text": [
      " 87%|████████▋ | 20041/23015 [05:10<00:48, 61.12it/s]"
     ]
    },
    {
     "name": "stdout",
     "output_type": "stream",
     "text": [
      "Unexpected error: <class 'ValueError'>\n",
      "{'tags': [], 'id': 14795, 'plylst_title': '', 'songs': [55221, 599679, 556674, 283511, 304702, 214546, 505015, 568649, 96208, 236646, 39524, 322542, 298576, 179156, 417177, 315090, 485436, 547962, 436112, 194246, 704371, 612452], 'like_cnt': 90, 'updt_date': '2019-12-18 13:33:55.000'}\n"
     ]
    },
    {
     "name": "stderr",
     "output_type": "stream",
     "text": [
      " 89%|████████▉ | 20447/23015 [05:17<00:39, 65.52it/s]"
     ]
    },
    {
     "name": "stdout",
     "output_type": "stream",
     "text": [
      "Unexpected error: <class 'ValueError'>\n",
      "{'tags': [], 'id': 153223, 'plylst_title': 'Lunch', 'songs': [], 'like_cnt': 1, 'updt_date': '2013-05-29 14:42:24.000'}\n"
     ]
    },
    {
     "name": "stderr",
     "output_type": "stream",
     "text": [
      " 89%|████████▉ | 20524/23015 [05:18<00:40, 61.14it/s]"
     ]
    },
    {
     "name": "stdout",
     "output_type": "stream",
     "text": [
      "Unexpected error: <class 'ValueError'>\n",
      "{'tags': [], 'id': 127483, 'plylst_title': '', 'songs': [501277, 623984, 76927, 552785, 502068, 146123, 140073, 542990, 268037, 395397, 105731, 672327, 158399, 262688, 506296, 20147, 414730, 388734], 'like_cnt': 8, 'updt_date': '2017-03-01 03:47:11.000'}\n"
     ]
    },
    {
     "name": "stderr",
     "output_type": "stream",
     "text": [
      " 90%|████████▉ | 20647/23015 [05:20<00:35, 66.26it/s]"
     ]
    },
    {
     "name": "stdout",
     "output_type": "stream",
     "text": [
      "Unexpected error: <class 'ValueError'>\n",
      "{'tags': [], 'id': 44466, 'plylst_title': '', 'songs': [70205, 99947, 281485, 702328, 642322, 529779, 208081, 62999], 'like_cnt': 5, 'updt_date': '2015-07-20 09:15:48.000'}\n"
     ]
    },
    {
     "name": "stderr",
     "output_type": "stream",
     "text": [
      " 90%|████████▉ | 20691/23015 [05:21<00:33, 68.80it/s]"
     ]
    },
    {
     "name": "stdout",
     "output_type": "stream",
     "text": [
      "Unexpected error: <class 'ValueError'>\n",
      "{'tags': [], 'id': 22054, 'plylst_title': 'PVRIS', 'songs': [], 'like_cnt': 2, 'updt_date': '2018-06-18 07:50:43.000'}\n",
      "Unexpected error: <class 'ValueError'>\n",
      "{'tags': [], 'id': 18195, 'plylst_title': '', 'songs': [600659, 141071, 131515], 'like_cnt': 4, 'updt_date': '2014-08-27 17:36:00.000'}\n"
     ]
    },
    {
     "name": "stderr",
     "output_type": "stream",
     "text": [
      " 92%|█████████▏| 21083/23015 [05:27<00:30, 63.96it/s]"
     ]
    },
    {
     "name": "stdout",
     "output_type": "stream",
     "text": [
      "Unexpected error: <class 'ValueError'>\n",
      "{'tags': [], 'id': 25186, 'plylst_title': '', 'songs': [159469, 605700, 283425, 691838, 313317, 385064, 17402], 'like_cnt': 26, 'updt_date': '2014-09-24 11:08:29.000'}\n"
     ]
    },
    {
     "name": "stderr",
     "output_type": "stream",
     "text": [
      " 93%|█████████▎| 21448/23015 [05:33<00:21, 72.69it/s]"
     ]
    },
    {
     "name": "stdout",
     "output_type": "stream",
     "text": [
      "Unexpected error: <class 'ValueError'>\n",
      "{'tags': [], 'id': 146744, 'plylst_title': '', 'songs': [96017, 198264], 'like_cnt': 0, 'updt_date': '2015-10-02 14:50:11.000'}\n"
     ]
    },
    {
     "name": "stderr",
     "output_type": "stream",
     "text": [
      " 94%|█████████▍| 21612/23015 [05:35<00:21, 66.25it/s]"
     ]
    },
    {
     "name": "stdout",
     "output_type": "stream",
     "text": [
      "Unexpected error: <class 'ValueError'>\n",
      "{'tags': [], 'id': 134085, 'plylst_title': '', 'songs': [600250, 271165, 705596, 350572, 498236, 331484, 195037, 591085, 249745, 471966, 654605, 36357, 343236], 'like_cnt': 6, 'updt_date': '2015-10-07 23:27:28.000'}\n"
     ]
    },
    {
     "name": "stderr",
     "output_type": "stream",
     "text": [
      " 95%|█████████▍| 21819/23015 [05:38<00:18, 66.30it/s]"
     ]
    },
    {
     "name": "stdout",
     "output_type": "stream",
     "text": [
      "Unexpected error: <class 'ValueError'>\n",
      "{'tags': ['봄클래식'], 'id': 86094, 'plylst_title': '', 'songs': [430360, 180264, 371559, 361053, 229181, 98991, 420333, 494590, 627430, 343569], 'like_cnt': 14, 'updt_date': '2018-03-12 14:38:38.000'}\n"
     ]
    },
    {
     "name": "stderr",
     "output_type": "stream",
     "text": [
      " 96%|█████████▌| 22045/23015 [05:42<00:14, 65.29it/s]"
     ]
    },
    {
     "name": "stdout",
     "output_type": "stream",
     "text": [
      "Unexpected error: <class 'ValueError'>\n",
      "{'tags': [], 'id': 119415, 'plylst_title': '', 'songs': [41189, 469586, 169592, 58793, 426206, 102198, 334267, 689104, 285162], 'like_cnt': 0, 'updt_date': '2015-10-02 14:48:30.000'}\n",
      "Unexpected error: <class 'ValueError'>\n",
      "{'tags': [], 'id': 95396, 'plylst_title': 'ㅈㅈㅈㅈ', 'songs': [], 'like_cnt': 0, 'updt_date': '2016-10-12 11:49:32.000'}\n"
     ]
    },
    {
     "name": "stderr",
     "output_type": "stream",
     "text": [
      " 97%|█████████▋| 22369/23015 [05:47<00:09, 66.22it/s]"
     ]
    },
    {
     "name": "stdout",
     "output_type": "stream",
     "text": [
      "Unexpected error: <class 'ValueError'>\n",
      "{'tags': [], 'id': 144555, 'plylst_title': '', 'songs': [362641, 614449, 177918, 310240, 495650], 'like_cnt': 1, 'updt_date': '2015-11-09 14:13:20.000'}\n"
     ]
    },
    {
     "name": "stderr",
     "output_type": "stream",
     "text": [
      " 99%|█████████▉| 22789/23015 [05:53<00:03, 71.62it/s]"
     ]
    },
    {
     "name": "stdout",
     "output_type": "stream",
     "text": [
      "Unexpected error: <class 'ValueError'>\n",
      "{'tags': [], 'id': 43959, 'plylst_title': '', 'songs': [563916, 216457, 416008, 189563, 266866, 400617, 151910, 684705, 680038, 310282], 'like_cnt': 0, 'updt_date': '2019-10-10 13:13:31.000'}\n"
     ]
    },
    {
     "name": "stderr",
     "output_type": "stream",
     "text": [
      "100%|██████████| 23015/23015 [05:57<00:00, 64.44it/s]\n"
     ]
    },
    {
     "name": "stdout",
     "output_type": "stream",
     "text": [
      "21145\n",
      "0\n",
      "6\n",
      "22862\n",
      "23015\n"
     ]
    }
   ],
   "source": [
    "get_result(self, self.w2v_model, self.p2v_model, self.song_dic, self.tag_dic, self.most_results, self.val, self.song_album_dic, self.album_songs_dic)\n"
   ]
  },
  {
   "cell_type": "code",
   "execution_count": null,
   "metadata": {},
   "outputs": [],
   "source": [
    "for song_id in [563916, 216457, 416008, 189563, 266866, 400617, 151910, 684705, 680038, 310282]:\n",
    "    print(\"song id : \" +  str(song_id) + \", album songs : \" + str(self.album_songs_dic[self.song_album_dic[song_id]]))"
   ]
  },
  {
   "cell_type": "code",
   "execution_count": null,
   "metadata": {},
   "outputs": [],
   "source": [
    "class CustomEvaluator:\n",
    "    def _idcg(self, l):\n",
    "        return sum((1.0 / np.log(i + 2) for i in range(l)))\n",
    "\n",
    "    def __init__(self):\n",
    "        self._idcgs = [self._idcg(i) for i in range(101)]\n",
    "\n",
    "    def _ndcg(self, gt, rec):\n",
    "        dcg = 0.0\n",
    "        for i, r in enumerate(rec):\n",
    "            if r in gt:\n",
    "                dcg += 1.0 / np.log(i + 2)\n",
    "\n",
    "        \n",
    "        if self._idcgs[len(gt)] == 0:\n",
    "            return 0\n",
    "        print(\"dcg : \" + str(dcg))\n",
    "        #print(\"self._idcgs[len(gt)] : \" + str(self._idcgs[len(gt)]))\n",
    "        #print(\"result : \" + str(dcg / self._idcgs[len(gt)]))\n",
    "        return dcg / self._idcgs[len(gt)]\n",
    "\n",
    "    def _eval(self, gt_fname, rec_fname):\n",
    "        gt_playlists = load_json(gt_fname)\n",
    "        gt_dict = {g[\"id\"]: g for g in gt_playlists}\n",
    "        rec_playlists = load_json(rec_fname)\n",
    "        \n",
    "        music_ndcg = 0.0\n",
    "        tag_ndcg = 0.0\n",
    "        \n",
    "        #display(gt_playlists)\n",
    "        #display(gt_dict)\n",
    "\n",
    "        for rec in rec_playlists:\n",
    "            gt = gt_dict[rec[\"id\"]]\n",
    "            #print(\"gt.tags\" + str(gt[\"tags\"]))\n",
    "            #print(\"rec.tags\" + str(rec[\"tags\"]))\n",
    "            music_ndcg += self._ndcg(gt[\"songs\"], rec[\"songs\"][:100])\n",
    "            tag_ndcg += self._ndcg(gt[\"tags\"], rec[\"tags\"][:10])\n",
    "\n",
    "        print(\"music_ndcg : \" + str(music_ndcg))\n",
    "        print(\"tag_ndcg : \" + str(tag_ndcg))\n",
    "        \n",
    "        music_ndcg = music_ndcg / len(rec_playlists)\n",
    "        tag_ndcg = tag_ndcg / len(rec_playlists)\n",
    "        score = music_ndcg * 0.85 + tag_ndcg * 0.15\n",
    "\n",
    "        return music_ndcg, tag_ndcg, score\n",
    "\n",
    "    def evaluate(self, gt_fname, rec_fname):\n",
    "        try:\n",
    "            music_ndcg, tag_ndcg, score = self._eval(gt_fname, rec_fname)\n",
    "            print(f\"Music nDCG: {music_ndcg:.6}\")\n",
    "            print(f\"Tag nDCG: {tag_ndcg:.6}\")\n",
    "            print(f\"Score: {score:.6}\")\n",
    "        except Exception as e:\n",
    "            print(e)"
   ]
  },
  {
   "cell_type": "code",
   "execution_count": null,
   "metadata": {},
   "outputs": [],
   "source": [
    "write_json( self.answers, 'results.json') \n",
    "arenaEvaluator = ArenaEvaluator()\n",
    "arenaEvaluator.evaluate('val.json','arena_data/results.json')\n",
    "#evaluator = CustomEvaluator()\n",
    "#evaluator.evaluate(\"val.json\", \"arena_data/results.json\")"
   ]
  },
  {
   "cell_type": "code",
   "execution_count": null,
   "metadata": {},
   "outputs": [],
   "source": [
    "self.answers"
   ]
  },
  {
   "cell_type": "code",
   "execution_count": null,
   "metadata": {},
   "outputs": [],
   "source": [
    "q=self.val[0]\n",
    "str_songs = np.array([str(x) for x in q['songs'] + q['tags'] + q['plylst_title'].split()])\n",
    "#print(str_songs)\n",
    "\n",
    "most_id = [x[0] for x in self.p2v_model.most_similar(str(q['id']), topn=200)]\n",
    "#print(most_id)\n",
    "\n",
    "get_song = []\n",
    "for ID in most_id:\n",
    "    get_song += self.song_dic[ID]\n",
    "\n",
    "print(pd.value_counts(get_song)[:200])\n",
    "\n",
    "zero_songs_cnt=0\n",
    "for item in self.val:\n",
    "    if len(item['songs']) == 0:\n",
    "        zero_songs_cnt+=1\n",
    "        print(item)\n",
    "        \n",
    "print(zero_songs_cnt)\n",
    "\n"
   ]
  },
  {
   "cell_type": "code",
   "execution_count": null,
   "metadata": {},
   "outputs": [],
   "source": [
    " def run(self):\n",
    "    get_dic(self, self.train, self.val)\n",
    "    get_w2v(self, self.total, self.min_count, self.size, self.window, self.sg)\n",
    "    update_p2v(self, self.train, self.val, self.w2v_model)\n",
    "    get_result(self, self.p2v_model, self.song_dic, self.tag_dic, self.most_results, self.val)\n",
    "    write_json(self, self.answers, 'results.json')"
   ]
  },
  {
   "cell_type": "code",
   "execution_count": null,
   "metadata": {},
   "outputs": [],
   "source": [
    "FILE_PATH = './'\n",
    "self = PlaylistEmbedding(FILE_PATH)\n",
    "#run(U_space)\n",
    "\n",
    "get_dic(self, self.train, self.val, self.test)\n",
    "    "
   ]
  },
  {
   "cell_type": "code",
   "execution_count": null,
   "metadata": {},
   "outputs": [],
   "source": [
    "get_w2v(self, self.total, self.min_count, self.size, self.window, self.sg)\n",
    "    "
   ]
  },
  {
   "cell_type": "code",
   "execution_count": null,
   "metadata": {},
   "outputs": [],
   "source": [
    "#self.w2v_model.save('word2vec.model')"
   ]
  },
  {
   "cell_type": "code",
   "execution_count": null,
   "metadata": {},
   "outputs": [],
   "source": [
    "#self.w2v_model = Word2Vec.load('word2vec.model')"
   ]
  },
  {
   "cell_type": "code",
   "execution_count": null,
   "metadata": {},
   "outputs": [],
   "source": [
    "update_p2v(self, self.train, self.val, self.test, self.w2v_model)\n"
   ]
  },
  {
   "cell_type": "code",
   "execution_count": null,
   "metadata": {},
   "outputs": [],
   "source": [
    "self.w2v_model.wv.get_vector(str('파괴'))\n",
    "#tagger = Twitter()\n",
    "#tagger.morphs(str('장르파괴자'))"
   ]
  },
  {
   "cell_type": "code",
   "execution_count": null,
   "metadata": {},
   "outputs": [],
   "source": [
    "?tagger"
   ]
  },
  {
   "cell_type": "code",
   "execution_count": null,
   "metadata": {},
   "outputs": [],
   "source": [
    "#get_result2(self, self.w2v_model, self.p2v_model, self.song_dic, self.tag_dic, self.most_results, self.val)\n",
    "get_result(self, self.p2v_model, self.song_dic, self.tag_dic, self.most_results, self.val)\n"
   ]
  },
  {
   "cell_type": "code",
   "execution_count": null,
   "metadata": {},
   "outputs": [],
   "source": [
    "len(self.val)"
   ]
  },
  {
   "cell_type": "code",
   "execution_count": null,
   "metadata": {},
   "outputs": [],
   "source": [
    "write_json( self.answers, 'results.json')"
   ]
  },
  {
   "cell_type": "code",
   "execution_count": null,
   "metadata": {},
   "outputs": [],
   "source": [
    "arenaEvaluator = ArenaEvaluator()\n",
    "arenaEvaluator.evaluate('val.json','arena_data/results.json')"
   ]
  },
  {
   "cell_type": "code",
   "execution_count": null,
   "metadata": {},
   "outputs": [],
   "source": [
    "rec_song_counts = [len(p[\"songs\"]) for p in self.answers]\n",
    "print(rec_song_counts)"
   ]
  },
  {
   "cell_type": "code",
   "execution_count": null,
   "metadata": {},
   "outputs": [],
   "source": [
    "self.answers[0]"
   ]
  },
  {
   "cell_type": "code",
   "execution_count": null,
   "metadata": {},
   "outputs": [],
   "source": [
    "with open(os.path.join(FILE_PATH, 'results_wv.json'), encoding=\"utf-8\") as f:\n",
    "    result_wv = json.load(f)\n",
    "with open(os.path.join(FILE_PATH, 'results_pv.json'), encoding=\"utf-8\") as f:\n",
    "    result_pv = json.load(f)   \n",
    "with open(os.path.join(FILE_PATH, 'song_meta.json'), encoding=\"utf-8\") as f:\n",
    "    song_meta = json.load(f)\n",
    "with open(os.path.join(FILE_PATH, 'genre_gn_all.json'), encoding=\"utf-8\") as f:\n",
    "    genre_gn_all = json.load(f)"
   ]
  },
  {
   "cell_type": "code",
   "execution_count": null,
   "metadata": {},
   "outputs": [],
   "source": [
    "song_meta[351214]"
   ]
  },
  {
   "cell_type": "code",
   "execution_count": null,
   "metadata": {},
   "outputs": [],
   "source": [
    "result_pv[0]"
   ]
  },
  {
   "cell_type": "code",
   "execution_count": null,
   "metadata": {},
   "outputs": [],
   "source": [
    "self.train[0]"
   ]
  },
  {
   "cell_type": "code",
   "execution_count": null,
   "metadata": {},
   "outputs": [],
   "source": [
    "rec_song_counts = [len(p[\"songs\"]) for p in rec_playlists]\n"
   ]
  },
  {
   "cell_type": "code",
   "execution_count": null,
   "metadata": {},
   "outputs": [],
   "source": [
    "rec_dict = {g[\"id\"]: g for g in self.val}    "
   ]
  },
  {
   "cell_type": "code",
   "execution_count": null,
   "metadata": {},
   "outputs": [],
   "source": [
    "gt_ids = set([g[\"id\"] for g in self.answers])\n",
    "print(gt_ids)\n",
    "len(gt_ids)"
   ]
  },
  {
   "cell_type": "code",
   "execution_count": null,
   "metadata": {},
   "outputs": [],
   "source": [
    "rec_ids = set([r[\"id\"] for r in self.val])\n",
    "print(rec_ids)\n",
    "len(rec_ids)"
   ]
  },
  {
   "cell_type": "code",
   "execution_count": null,
   "metadata": {},
   "outputs": [],
   "source": [
    "print([r[\"id\"] for r in self.most_results])"
   ]
  },
  {
   "cell_type": "code",
   "execution_count": null,
   "metadata": {},
   "outputs": [],
   "source": [
    "gt_ids = set([g[\"id\"] for g in self.answers])"
   ]
  },
  {
   "cell_type": "code",
   "execution_count": null,
   "metadata": {},
   "outputs": [],
   "source": [
    "len(gt_ids)"
   ]
  },
  {
   "cell_type": "code",
   "execution_count": null,
   "metadata": {},
   "outputs": [],
   "source": [
    "?Word2Vec"
   ]
  },
  {
   "cell_type": "code",
   "execution_count": null,
   "metadata": {},
   "outputs": [],
   "source": []
  }
 ],
 "metadata": {
  "kernelspec": {
   "display_name": "Python 3",
   "language": "python",
   "name": "python3"
  },
  "language_info": {
   "codemirror_mode": {
    "name": "ipython",
    "version": 3
   },
   "file_extension": ".py",
   "mimetype": "text/x-python",
   "name": "python",
   "nbconvert_exporter": "python",
   "pygments_lexer": "ipython3",
   "version": "3.7.2"
  }
 },
 "nbformat": 4,
 "nbformat_minor": 2
}
